{
 "cells": [
  {
   "cell_type": "code",
   "execution_count": 3,
   "metadata": {},
   "outputs": [],
   "source": [
    "from sympy.parsing.sympy_parser import parse_expr"
   ]
  },
  {
   "cell_type": "code",
   "execution_count": 2,
   "metadata": {},
   "outputs": [
    {
     "data": {
      "text/latex": [
       "$\\displaystyle 12$"
      ],
      "text/plain": [
       "12"
      ]
     },
     "execution_count": 2,
     "metadata": {},
     "output_type": "execute_result"
    }
   ],
   "source": [
    "parse_expr(\"0.3x + 3y\", evaluate=True, local_dict={\"x\": 10, \"y\": 3, \"z\": 5}, transformations=\"all\")"
   ]
  },
  {
   "cell_type": "code",
   "execution_count": 3,
   "metadata": {},
   "outputs": [
    {
     "data": {
      "text/plain": [
       "False"
      ]
     },
     "execution_count": 3,
     "metadata": {},
     "output_type": "execute_result"
    }
   ],
   "source": [
    "from sympy import parse_expr, postorder_traversal\n",
    "from expressiontree import *\n",
    "import re\n",
    "\n",
    "\n",
    "\n",
    "contains_operators(\"x_y\")"
   ]
  },
  {
   "cell_type": "code",
   "execution_count": 2,
   "metadata": {},
   "outputs": [
    {
     "name": "stdout",
     "output_type": "stream",
     "text": [
      "[*********************100%***********************]  1 of 1 completed\n",
      "[*********************100%***********************]  1 of 1 completed\n",
      "0\n",
      "[*********************100%***********************]  1 of 1 completed\n",
      "1\n",
      "0.04692692172716728 + _transpose(AAPLreturn10d1d_0 + AAPLvolume10d1d_1)\n"
     ]
    }
   ],
   "source": [
    "from expression import Expression\n",
    "expr = Expression(portfolio_assets=[\"AAPL\"], str_expression=\"0.1 + _AAPL(return, 3d)\")\n",
    "\n",
    "complex_f = expr.evaluate(\"_AAPL(return, 5d) + _transpose(_AAPL(return, 10d, 1d) + _AAPL(volume, 10d, 1d))\")"
   ]
  },
  {
   "cell_type": "code",
   "execution_count": 4,
   "metadata": {},
   "outputs": [
    {
     "data": {
      "text/plain": [
       "['AAPLreturn10d1d_0+AAPLvolume10d1d_1']"
      ]
     },
     "execution_count": 4,
     "metadata": {},
     "output_type": "execute_result"
    }
   ],
   "source": [
    "expr.get_function_arguments(\"_transpose(AAPLreturn10d1d_0 + AAPLvolume10d1d_1)\")"
   ]
  },
  {
   "cell_type": "code",
   "execution_count": 23,
   "metadata": {},
   "outputs": [
    {
     "ename": "TypeError",
     "evalue": "unsupported operand type(s) for /: 'One' and 'MutableDenseMatrix'",
     "output_type": "error",
     "traceback": [
      "\u001b[1;31m---------------------------------------------------------------------------\u001b[0m",
      "\u001b[1;31mValueError\u001b[0m                                Traceback (most recent call last)",
      "\u001b[1;31mValueError\u001b[0m: Error from parse_expr with transformed code: 'm /m '",
      "\nThe above exception was the direct cause of the following exception:\n",
      "\u001b[1;31mTypeError\u001b[0m                                 Traceback (most recent call last)",
      "\u001b[1;32m<ipython-input-23-899cb4704196>\u001b[0m in \u001b[0;36m<module>\u001b[1;34m\u001b[0m\n\u001b[0;32m      3\u001b[0m \u001b[0mm\u001b[0m \u001b[1;33m=\u001b[0m \u001b[0mMatrix\u001b[0m\u001b[1;33m(\u001b[0m\u001b[1;33m[\u001b[0m\u001b[1;36m1\u001b[0m\u001b[1;33m,\u001b[0m \u001b[1;36m2\u001b[0m\u001b[1;33m,\u001b[0m \u001b[1;36m3\u001b[0m\u001b[1;33m]\u001b[0m\u001b[1;33m)\u001b[0m\u001b[1;33m\u001b[0m\u001b[1;33m\u001b[0m\u001b[0m\n\u001b[0;32m      4\u001b[0m \u001b[1;33m\u001b[0m\u001b[0m\n\u001b[1;32m----> 5\u001b[1;33m \u001b[0mparse_expr\u001b[0m\u001b[1;33m(\u001b[0m\u001b[1;34m\"m/m\"\u001b[0m\u001b[1;33m,\u001b[0m \u001b[0mlocal_dict\u001b[0m\u001b[1;33m=\u001b[0m\u001b[1;33m{\u001b[0m\u001b[1;34m\"m\"\u001b[0m\u001b[1;33m:\u001b[0m \u001b[0mm\u001b[0m\u001b[1;33m}\u001b[0m\u001b[1;33m,\u001b[0m \u001b[0mevaluate\u001b[0m\u001b[1;33m=\u001b[0m\u001b[1;32mTrue\u001b[0m\u001b[1;33m)\u001b[0m\u001b[1;33m\u001b[0m\u001b[1;33m\u001b[0m\u001b[0m\n\u001b[0m",
      "\u001b[1;32md:\\Apps\\Anaconda\\Anaconda\\lib\\site-packages\\sympy\\parsing\\sympy_parser.py\u001b[0m in \u001b[0;36mparse_expr\u001b[1;34m(s, local_dict, transformations, global_dict, evaluate)\u001b[0m\n\u001b[0;32m   1099\u001b[0m         \u001b[1;32mfor\u001b[0m \u001b[0mi\u001b[0m \u001b[1;32min\u001b[0m \u001b[0mlocal_dict\u001b[0m\u001b[1;33m.\u001b[0m\u001b[0mpop\u001b[0m\u001b[1;33m(\u001b[0m\u001b[0mnull\u001b[0m\u001b[1;33m,\u001b[0m \u001b[1;33m(\u001b[0m\u001b[1;33m)\u001b[0m\u001b[1;33m)\u001b[0m\u001b[1;33m:\u001b[0m\u001b[1;33m\u001b[0m\u001b[1;33m\u001b[0m\u001b[0m\n\u001b[0;32m   1100\u001b[0m             \u001b[0mlocal_dict\u001b[0m\u001b[1;33m[\u001b[0m\u001b[0mi\u001b[0m\u001b[1;33m]\u001b[0m \u001b[1;33m=\u001b[0m \u001b[0mnull\u001b[0m\u001b[1;33m\u001b[0m\u001b[1;33m\u001b[0m\u001b[0m\n\u001b[1;32m-> 1101\u001b[1;33m         \u001b[1;32mraise\u001b[0m \u001b[0me\u001b[0m \u001b[1;32mfrom\u001b[0m \u001b[0mValueError\u001b[0m\u001b[1;33m(\u001b[0m\u001b[1;34mf\"Error from parse_expr with transformed code: {code!r}\"\u001b[0m\u001b[1;33m)\u001b[0m\u001b[1;33m\u001b[0m\u001b[1;33m\u001b[0m\u001b[0m\n\u001b[0m\u001b[0;32m   1102\u001b[0m \u001b[1;33m\u001b[0m\u001b[0m\n\u001b[0;32m   1103\u001b[0m \u001b[1;33m\u001b[0m\u001b[0m\n",
      "\u001b[1;32md:\\Apps\\Anaconda\\Anaconda\\lib\\site-packages\\sympy\\parsing\\sympy_parser.py\u001b[0m in \u001b[0;36mparse_expr\u001b[1;34m(s, local_dict, transformations, global_dict, evaluate)\u001b[0m\n\u001b[0;32m   1090\u001b[0m \u001b[1;33m\u001b[0m\u001b[0m\n\u001b[0;32m   1091\u001b[0m     \u001b[1;32mtry\u001b[0m\u001b[1;33m:\u001b[0m\u001b[1;33m\u001b[0m\u001b[1;33m\u001b[0m\u001b[0m\n\u001b[1;32m-> 1092\u001b[1;33m         \u001b[0mrv\u001b[0m \u001b[1;33m=\u001b[0m \u001b[0meval_expr\u001b[0m\u001b[1;33m(\u001b[0m\u001b[0mcode\u001b[0m\u001b[1;33m,\u001b[0m \u001b[0mlocal_dict\u001b[0m\u001b[1;33m,\u001b[0m \u001b[0mglobal_dict\u001b[0m\u001b[1;33m)\u001b[0m\u001b[1;33m\u001b[0m\u001b[1;33m\u001b[0m\u001b[0m\n\u001b[0m\u001b[0;32m   1093\u001b[0m         \u001b[1;31m# restore neutral definitions for names\u001b[0m\u001b[1;33m\u001b[0m\u001b[1;33m\u001b[0m\u001b[1;33m\u001b[0m\u001b[0m\n\u001b[0;32m   1094\u001b[0m         \u001b[1;32mfor\u001b[0m \u001b[0mi\u001b[0m \u001b[1;32min\u001b[0m \u001b[0mlocal_dict\u001b[0m\u001b[1;33m.\u001b[0m\u001b[0mpop\u001b[0m\u001b[1;33m(\u001b[0m\u001b[0mnull\u001b[0m\u001b[1;33m,\u001b[0m \u001b[1;33m(\u001b[0m\u001b[1;33m)\u001b[0m\u001b[1;33m)\u001b[0m\u001b[1;33m:\u001b[0m\u001b[1;33m\u001b[0m\u001b[1;33m\u001b[0m\u001b[0m\n",
      "\u001b[1;32md:\\Apps\\Anaconda\\Anaconda\\lib\\site-packages\\sympy\\parsing\\sympy_parser.py\u001b[0m in \u001b[0;36meval_expr\u001b[1;34m(code, local_dict, global_dict)\u001b[0m\n\u001b[0;32m    905\u001b[0m     \u001b[0mGenerally\u001b[0m\u001b[1;33m,\u001b[0m\u001b[0;31m \u001b[0m\u001b[0;31m`\u001b[0m\u001b[0;31m`\u001b[0m\u001b[0mparse_expr\u001b[0m\u001b[0;31m`\u001b[0m\u001b[0;31m`\u001b[0m \u001b[0mshould\u001b[0m \u001b[0mbe\u001b[0m \u001b[0mused\u001b[0m\u001b[1;33m.\u001b[0m\u001b[1;33m\u001b[0m\u001b[1;33m\u001b[0m\u001b[0m\n\u001b[0;32m    906\u001b[0m     \"\"\"\n\u001b[1;32m--> 907\u001b[1;33m     expr = eval(\n\u001b[0m\u001b[0;32m    908\u001b[0m         code, global_dict, local_dict)  # take local objects in preference\n\u001b[0;32m    909\u001b[0m     \u001b[1;32mreturn\u001b[0m \u001b[0mexpr\u001b[0m\u001b[1;33m\u001b[0m\u001b[1;33m\u001b[0m\u001b[0m\n",
      "\u001b[1;32m<string>\u001b[0m in \u001b[0;36m<module>\u001b[1;34m\u001b[0m\n",
      "\u001b[1;32md:\\Apps\\Anaconda\\Anaconda\\lib\\site-packages\\sympy\\core\\decorators.py\u001b[0m in \u001b[0;36mbinary_op_wrapper\u001b[1;34m(self, other)\u001b[0m\n\u001b[0;32m    104\u001b[0m                     \u001b[1;32mif\u001b[0m \u001b[0mf\u001b[0m \u001b[1;32mis\u001b[0m \u001b[1;32mnot\u001b[0m \u001b[1;32mNone\u001b[0m\u001b[1;33m:\u001b[0m\u001b[1;33m\u001b[0m\u001b[1;33m\u001b[0m\u001b[0m\n\u001b[0;32m    105\u001b[0m                         \u001b[1;32mreturn\u001b[0m \u001b[0mf\u001b[0m\u001b[1;33m(\u001b[0m\u001b[0mself\u001b[0m\u001b[1;33m)\u001b[0m\u001b[1;33m\u001b[0m\u001b[1;33m\u001b[0m\u001b[0m\n\u001b[1;32m--> 106\u001b[1;33m             \u001b[1;32mreturn\u001b[0m \u001b[0mfunc\u001b[0m\u001b[1;33m(\u001b[0m\u001b[0mself\u001b[0m\u001b[1;33m,\u001b[0m \u001b[0mother\u001b[0m\u001b[1;33m)\u001b[0m\u001b[1;33m\u001b[0m\u001b[1;33m\u001b[0m\u001b[0m\n\u001b[0m\u001b[0;32m    107\u001b[0m         \u001b[1;32mreturn\u001b[0m \u001b[0mbinary_op_wrapper\u001b[0m\u001b[1;33m\u001b[0m\u001b[1;33m\u001b[0m\u001b[0m\n\u001b[0;32m    108\u001b[0m     \u001b[1;32mreturn\u001b[0m \u001b[0mpriority_decorator\u001b[0m\u001b[1;33m\u001b[0m\u001b[1;33m\u001b[0m\u001b[0m\n",
      "\u001b[1;32md:\\Apps\\Anaconda\\Anaconda\\lib\\site-packages\\sympy\\matrices\\common.py\u001b[0m in \u001b[0;36m__truediv__\u001b[1;34m(self, other)\u001b[0m\n\u001b[0;32m   2727\u001b[0m     \u001b[1;33m@\u001b[0m\u001b[0mcall_highest_priority\u001b[0m\u001b[1;33m(\u001b[0m\u001b[1;34m'__rtruediv__'\u001b[0m\u001b[1;33m)\u001b[0m\u001b[1;33m\u001b[0m\u001b[1;33m\u001b[0m\u001b[0m\n\u001b[0;32m   2728\u001b[0m     \u001b[1;32mdef\u001b[0m \u001b[0m__truediv__\u001b[0m\u001b[1;33m(\u001b[0m\u001b[0mself\u001b[0m\u001b[1;33m,\u001b[0m \u001b[0mother\u001b[0m\u001b[1;33m)\u001b[0m\u001b[1;33m:\u001b[0m\u001b[1;33m\u001b[0m\u001b[1;33m\u001b[0m\u001b[0m\n\u001b[1;32m-> 2729\u001b[1;33m         \u001b[1;32mreturn\u001b[0m \u001b[0mself\u001b[0m \u001b[1;33m*\u001b[0m \u001b[1;33m(\u001b[0m\u001b[0mself\u001b[0m\u001b[1;33m.\u001b[0m\u001b[0mone\u001b[0m \u001b[1;33m/\u001b[0m \u001b[0mother\u001b[0m\u001b[1;33m)\u001b[0m\u001b[1;33m\u001b[0m\u001b[1;33m\u001b[0m\u001b[0m\n\u001b[0m\u001b[0;32m   2730\u001b[0m \u001b[1;33m\u001b[0m\u001b[0m\n\u001b[0;32m   2731\u001b[0m     \u001b[1;33m@\u001b[0m\u001b[0mcall_highest_priority\u001b[0m\u001b[1;33m(\u001b[0m\u001b[1;34m'__rmatmul__'\u001b[0m\u001b[1;33m)\u001b[0m\u001b[1;33m\u001b[0m\u001b[1;33m\u001b[0m\u001b[0m\n",
      "\u001b[1;31mTypeError\u001b[0m: unsupported operand type(s) for /: 'One' and 'MutableDenseMatrix'"
     ]
    }
   ],
   "source": [
    "from sympy import Matrix, parse_expr\n",
    "\n",
    "m = Matrix([1, 2, 3])\n",
    "\n",
    "parse_expr(\"m/m\", local_dict={\"m\": m}, evaluate=True)"
   ]
  },
  {
   "cell_type": "code",
   "execution_count": 21,
   "metadata": {},
   "outputs": [
    {
     "data": {
      "text/latex": [
       "$\\displaystyle \\left[\\begin{matrix}2 & 4\\\\6 & 8\\end{matrix}\\right]$"
      ],
      "text/plain": [
       "Matrix([\n",
       "[2, 4],\n",
       "[6, 8]])"
      ]
     },
     "execution_count": 21,
     "metadata": {},
     "output_type": "execute_result"
    }
   ],
   "source": [
    "x = Matrix([1, 2, 3, 4])\n",
    "x.reshape(2, 2) + x.reshape(2, 2)"
   ]
  },
  {
   "cell_type": "code",
   "execution_count": 4,
   "metadata": {},
   "outputs": [
    {
     "name": "stdout",
     "output_type": "stream",
     "text": [
      "[*********************100%***********************]  1 of 1 completed\n"
     ]
    },
    {
     "data": {
      "text/plain": [
       "{'period': '100d',\n",
       " 'interval': '1d',\n",
       " 'time_zone': None,\n",
       " 'average_open': 150.29220054626464,\n",
       " 'max_open': 173.0500030517578,\n",
       " 'min_open': 126.01000213623047,\n",
       " 'stdev_open': 12.932928708865637}"
      ]
     },
     "execution_count": 4,
     "metadata": {},
     "output_type": "execute_result"
    }
   ],
   "source": [
    "from numericals import Numerical\n",
    "\n",
    "numerical = Numerical()\n",
    "\n",
    "numerical.summarize_historical_data(\"AAPL\")"
   ]
  },
  {
   "cell_type": "code",
   "execution_count": 4,
   "metadata": {},
   "outputs": [
    {
     "name": "stdout",
     "output_type": "stream",
     "text": [
      "[*********************100%***********************]  1 of 1 completed\n",
      "{'AAPLreturn10d1d_0': Matrix([\n",
      "[-0.000530401841079775],\n",
      "[ -0.00619142549107132],\n",
      "[ -0.00646725620071475],\n",
      "[ -0.00991345347068961],\n",
      "[   0.0469269474632046],\n",
      "[-0.000403367369252505],\n",
      "[ -0.00997112231930308],\n",
      "[   0.0104208753759483],\n",
      "[  0.00109475392335234],\n",
      "[ -0.00541756894991818]])}\n"
     ]
    },
    {
     "data": {
      "text/plain": [
       "'3x^2 + AAPLreturn10d1d_0'"
      ]
     },
     "execution_count": 4,
     "metadata": {},
     "output_type": "execute_result"
    }
   ],
   "source": [
    "from expression import Expression\n",
    "\n",
    "expr = Expression(portfolio_assets=[\"AAPL\"], str_expression=\"3x^2 + average(AAPL_return, 10d, 1m) * average(what, 5d, 1s)\", variable_dict={\"x\": 10})\n",
    "expr.evaluate(\"3x^2 + _AAPL(return, 10d, 1d)\")"
   ]
  },
  {
   "cell_type": "code",
   "execution_count": 10,
   "metadata": {},
   "outputs": [
    {
     "data": {
      "text/plain": [
       "['x**2', '3*x**2', 'AAPLreturn10d1d_0 + 3*x**2']"
      ]
     },
     "execution_count": 10,
     "metadata": {},
     "output_type": "execute_result"
    }
   ],
   "source": [
    "from expressiontree import *\n",
    "\n",
    "# solve_expression(\"3x^2 + AAPLreturn10d1d_0\", variable_dict={\"AAPLreturn10d1d_0\": 10}  )\n",
    "get_ordered_operations(\"3x^2 + AAPLreturn10d1d_0\")"
   ]
  },
  {
   "cell_type": "code",
   "execution_count": 6,
   "metadata": {},
   "outputs": [
    {
     "data": {
      "text/latex": [
       "$\\displaystyle \\left[\\begin{matrix}500\\\\1000\\\\1500\\end{matrix}\\right]$"
      ],
      "text/plain": [
       "Matrix([\n",
       "[ 500],\n",
       "[1000],\n",
       "[1500]])"
      ]
     },
     "execution_count": 6,
     "metadata": {},
     "output_type": "execute_result"
    }
   ],
   "source": [
    "from expressiontree import *\n",
    "\n",
    "solve_expression(\"x * 500\", {\"x\": Matrix([1, 2, 3]), \"y\": Matrix([2, 3, 4])})"
   ]
  },
  {
   "cell_type": "code",
   "execution_count": 51,
   "metadata": {},
   "outputs": [
    {
     "data": {
      "text/plain": [
       "['x + y + 100']"
      ]
     },
     "execution_count": 51,
     "metadata": {},
     "output_type": "execute_result"
    }
   ],
   "source": [
    "# solve_expression(\"x + y + 100\", {\"x\": 3, \"y\": 10})\n",
    "get_ordered_operations(\"x + (y + 100)\")"
   ]
  },
  {
   "cell_type": "code",
   "execution_count": 46,
   "metadata": {},
   "outputs": [
    {
     "name": "stdout",
     "output_type": "stream",
     "text": [
      "x\n",
      "y\n",
      "-1\n",
      "1/y\n",
      "100\n",
      "-1\n",
      "1/100\n",
      "x/(y*100)\n"
     ]
    }
   ],
   "source": [
    "from sympy import postorder_traversal\n",
    "\n",
    "for i in postorder_traversal(parse_expr(\"x /y/ 100\", evaluate=False, transformations=\"all\")):\n",
    "    print(i)"
   ]
  },
  {
   "cell_type": "code",
   "execution_count": 32,
   "metadata": {},
   "outputs": [],
   "source": [
    "# from expressiontree import *\n",
    "from sympy import Matrix\n",
    "import re\n",
    "\n",
    "def make_matrix_aware(operand1, operand2, operator, variable_dict):\n",
    "    # operands in variable_dict are matrics. We are checking to determine how to process\n",
    "    # when one is a matrix and another one not, or when both are or are not matrics\n",
    "    # We are parsing expression containing matrices slighly different from how it is done\n",
    "    # in sympy which doesn't allow operations such as \"3 + Matrix([1, 2, 3])\". We want to\n",
    "    # make such kind of operation possible in our app though, so we are extending on what\n",
    "    # is offered by sympy\n",
    "    if(operand1 in variable_dict and operand2 in variable_dict):\n",
    "        return \"{op_1}{op}{op_2}\".format(op_1=operand1, op=operator, op_2=operand2)\n",
    "    elif(operand1 not in variable_dict and operand2 not in variable_dict):\n",
    "        return \"{op_1}{op}{op_2}\".format(op_1=operand1, op=operator, op_2=operand2)\n",
    "    elif(operator != \"+\" and operator != \"-\"):\n",
    "        return \"{op_1}{op}{op_2}\".format(op_1=operand1, op=operator, op_2=operand2)\n",
    "    elif(operand1 in variable_dict and operand2 not in variable_dict):\n",
    "        # operand1 is a matrix while operand2 is not\n",
    "        operand1 = variable_dict[operand1]\n",
    "        matrix_operand_size = operand1.shape[0]*operand1.shape[1]\n",
    "        transformed_operand2 = Matrix([operand2 for i in range(matrix_operand_size)])\n",
    "        transformed_operand2 = transformed_operand2.reshape(operand1.shape[0], operand1.shape[1])\n",
    "        return \"{op_1}{op}{op_2}\".format(op_1=operand1, op=operator, op_2=transformed_operand2)\n",
    "    elif(operand2 in variable_dict and operand1 not in variable_dict):\n",
    "        # operand2 is a matrix while operand1 is not\n",
    "        operand2 = variable_dict[operand2]\n",
    "        matrix_operand_size = operand2.shape[0]*operand2.shape[1]\n",
    "        transformed_operand1 =  Matrix([operand1 for i in range(matrix_operand_size)])\n",
    "        transformed_operand1 = transformed_operand1.reshape(operand2.shape[0], operand2.shape[1]) \n",
    "        return \"{op_1}{op}{op_2}\".format(op_1=transformed_operand1, op=operator, op_2=operand2)"
   ]
  },
  {
   "cell_type": "code",
   "execution_count": 33,
   "metadata": {},
   "outputs": [
    {
     "data": {
      "text/plain": [
       "'Matrix([[1], [2], [3]])-Matrix([[8], [8], [8]])'"
      ]
     },
     "execution_count": 33,
     "metadata": {},
     "output_type": "execute_result"
    }
   ],
   "source": [
    "make_matrix_aware(operand1=\"y\", operand2=\"8\", operator=\"-\", variable_dict={\"y\": Matrix([1, 2, 3])})"
   ]
  },
  {
   "cell_type": "code",
   "execution_count": 26,
   "metadata": {},
   "outputs": [
    {
     "ename": "TypeError",
     "evalue": "cannot add <class 'sympy.matrices.dense.MutableDenseMatrix'> and <class 'int'>",
     "output_type": "error",
     "traceback": [
      "\u001b[1;31m---------------------------------------------------------------------------\u001b[0m",
      "\u001b[1;31mTypeError\u001b[0m                                 Traceback (most recent call last)",
      "\u001b[1;32m<ipython-input-26-e5bd9224cda7>\u001b[0m in \u001b[0;36m<module>\u001b[1;34m\u001b[0m\n\u001b[0;32m      1\u001b[0m \u001b[1;32mfrom\u001b[0m \u001b[0msympy\u001b[0m \u001b[1;32mimport\u001b[0m \u001b[1;33m*\u001b[0m\u001b[1;33m\u001b[0m\u001b[1;33m\u001b[0m\u001b[0m\n\u001b[0;32m      2\u001b[0m \u001b[1;33m\u001b[0m\u001b[0m\n\u001b[1;32m----> 3\u001b[1;33m \u001b[0mMatrix\u001b[0m\u001b[1;33m(\u001b[0m\u001b[1;33m[\u001b[0m\u001b[1;36m1\u001b[0m\u001b[1;33m,\u001b[0m \u001b[1;36m2\u001b[0m\u001b[1;33m,\u001b[0m \u001b[1;36m2\u001b[0m\u001b[1;33m]\u001b[0m\u001b[1;33m)\u001b[0m \u001b[1;33m+\u001b[0m \u001b[1;36m3\u001b[0m\u001b[1;33m\u001b[0m\u001b[1;33m\u001b[0m\u001b[0m\n\u001b[0m",
      "\u001b[1;32md:\\Apps\\Anaconda\\Anaconda\\lib\\site-packages\\sympy\\core\\decorators.py\u001b[0m in \u001b[0;36mbinary_op_wrapper\u001b[1;34m(self, other)\u001b[0m\n\u001b[0;32m    104\u001b[0m                     \u001b[1;32mif\u001b[0m \u001b[0mf\u001b[0m \u001b[1;32mis\u001b[0m \u001b[1;32mnot\u001b[0m \u001b[1;32mNone\u001b[0m\u001b[1;33m:\u001b[0m\u001b[1;33m\u001b[0m\u001b[1;33m\u001b[0m\u001b[0m\n\u001b[0;32m    105\u001b[0m                         \u001b[1;32mreturn\u001b[0m \u001b[0mf\u001b[0m\u001b[1;33m(\u001b[0m\u001b[0mself\u001b[0m\u001b[1;33m)\u001b[0m\u001b[1;33m\u001b[0m\u001b[1;33m\u001b[0m\u001b[0m\n\u001b[1;32m--> 106\u001b[1;33m             \u001b[1;32mreturn\u001b[0m \u001b[0mfunc\u001b[0m\u001b[1;33m(\u001b[0m\u001b[0mself\u001b[0m\u001b[1;33m,\u001b[0m \u001b[0mother\u001b[0m\u001b[1;33m)\u001b[0m\u001b[1;33m\u001b[0m\u001b[1;33m\u001b[0m\u001b[0m\n\u001b[0m\u001b[0;32m    107\u001b[0m         \u001b[1;32mreturn\u001b[0m \u001b[0mbinary_op_wrapper\u001b[0m\u001b[1;33m\u001b[0m\u001b[1;33m\u001b[0m\u001b[0m\n\u001b[0;32m    108\u001b[0m     \u001b[1;32mreturn\u001b[0m \u001b[0mpriority_decorator\u001b[0m\u001b[1;33m\u001b[0m\u001b[1;33m\u001b[0m\u001b[0m\n",
      "\u001b[1;32md:\\Apps\\Anaconda\\Anaconda\\lib\\site-packages\\sympy\\matrices\\common.py\u001b[0m in \u001b[0;36m__add__\u001b[1;34m(self, other)\u001b[0m\n\u001b[0;32m   2723\u001b[0m             \u001b[1;32mreturn\u001b[0m \u001b[0mMatrixArithmetic\u001b[0m\u001b[1;33m.\u001b[0m\u001b[0m_eval_add\u001b[0m\u001b[1;33m(\u001b[0m\u001b[0mself\u001b[0m\u001b[1;33m,\u001b[0m \u001b[0mother\u001b[0m\u001b[1;33m)\u001b[0m\u001b[1;33m\u001b[0m\u001b[1;33m\u001b[0m\u001b[0m\n\u001b[0;32m   2724\u001b[0m \u001b[1;33m\u001b[0m\u001b[0m\n\u001b[1;32m-> 2725\u001b[1;33m         \u001b[1;32mraise\u001b[0m \u001b[0mTypeError\u001b[0m\u001b[1;33m(\u001b[0m\u001b[1;34m'cannot add %s and %s'\u001b[0m \u001b[1;33m%\u001b[0m \u001b[1;33m(\u001b[0m\u001b[0mtype\u001b[0m\u001b[1;33m(\u001b[0m\u001b[0mself\u001b[0m\u001b[1;33m)\u001b[0m\u001b[1;33m,\u001b[0m \u001b[0mtype\u001b[0m\u001b[1;33m(\u001b[0m\u001b[0mother\u001b[0m\u001b[1;33m)\u001b[0m\u001b[1;33m)\u001b[0m\u001b[1;33m)\u001b[0m\u001b[1;33m\u001b[0m\u001b[1;33m\u001b[0m\u001b[0m\n\u001b[0m\u001b[0;32m   2726\u001b[0m \u001b[1;33m\u001b[0m\u001b[0m\n\u001b[0;32m   2727\u001b[0m     \u001b[1;33m@\u001b[0m\u001b[0mcall_highest_priority\u001b[0m\u001b[1;33m(\u001b[0m\u001b[1;34m'__rtruediv__'\u001b[0m\u001b[1;33m)\u001b[0m\u001b[1;33m\u001b[0m\u001b[1;33m\u001b[0m\u001b[0m\n",
      "\u001b[1;31mTypeError\u001b[0m: cannot add <class 'sympy.matrices.dense.MutableDenseMatrix'> and <class 'int'>"
     ]
    }
   ],
   "source": [
    "from sympy import *\n",
    "\n",
    "Matrix([1, 2, 2]) + 3"
   ]
  },
  {
   "cell_type": "code",
   "execution_count": 8,
   "metadata": {},
   "outputs": [
    {
     "ename": "NameError",
     "evalue": "name 'str_' is not defined",
     "output_type": "error",
     "traceback": [
      "\u001b[1;31m---------------------------------------------------------------------------\u001b[0m",
      "\u001b[1;31mNameError\u001b[0m                                 Traceback (most recent call last)",
      "\u001b[1;32m<ipython-input-8-f62ab9335875>\u001b[0m in \u001b[0;36m<module>\u001b[1;34m\u001b[0m\n\u001b[0;32m     10\u001b[0m     \u001b[1;32mreturn\u001b[0m \u001b[0mre\u001b[0m\u001b[1;33m.\u001b[0m\u001b[0mfindall\u001b[0m\u001b[1;33m(\u001b[0m\u001b[0mregex\u001b[0m\u001b[1;33m,\u001b[0m \u001b[0mstr_expression\u001b[0m\u001b[1;33m)\u001b[0m\u001b[1;33m\u001b[0m\u001b[1;33m\u001b[0m\u001b[0m\n\u001b[0;32m     11\u001b[0m \u001b[1;33m\u001b[0m\u001b[0m\n\u001b[1;32m---> 12\u001b[1;33m \u001b[0mwhat\u001b[0m \u001b[1;33m=\u001b[0m \u001b[0mget_innermost_functions\u001b[0m\u001b[1;33m(\u001b[0m\u001b[0mstr_\u001b[0m\u001b[1;33m,\u001b[0m \u001b[1;36m3\u001b[0m\u001b[1;33m)\u001b[0m\u001b[1;33m\u001b[0m\u001b[1;33m\u001b[0m\u001b[0m\n\u001b[0m\u001b[0;32m     13\u001b[0m \u001b[0mwhat\u001b[0m\u001b[1;33m\u001b[0m\u001b[1;33m\u001b[0m\u001b[0m\n",
      "\u001b[1;31mNameError\u001b[0m: name 'str_' is not defined"
     ]
    }
   ],
   "source": [
    "def get_innermost_functions(str_expression, arguments_count):\n",
    "\n",
    "    # The \",\\s*\\w+\" extracts a single argument. We want to be flexible with the\n",
    "    # number of arguments we can extract. For instance, if we wnat to extract\n",
    "    # an inner function that accepts two arguments, the regex for that will\n",
    "    # be r\"\\w+\\(\\w+\\s*,\\s*\\w+\\)\". That is what we are doing here\n",
    "    r = \"\".join([\",\\s*\\w+\\s*\" for i in range(arguments_count-1)]) + r\"\\)\"\n",
    "    regex = r\"\\w+\\(\\s*\\w+\\s*\" + r\n",
    "\n",
    "    return re.findall(regex, str_expression)\n",
    "\n",
    "what = get_innermost_functions(str_, 3)\n",
    "what"
   ]
  },
  {
   "cell_type": "code",
   "execution_count": 2,
   "metadata": {},
   "outputs": [
    {
     "data": {
      "text/plain": [
       "['_AAPL', '_What']"
      ]
     },
     "execution_count": 2,
     "metadata": {},
     "output_type": "execute_result"
    }
   ],
   "source": [
    "my_arr = [\"AAPL\", \"What\"]\n",
    "what = [\"_\"+i for i in my_arr]\n",
    "what"
   ]
  },
  {
   "cell_type": "code",
   "execution_count": 1,
   "metadata": {},
   "outputs": [
    {
     "name": "stdout",
     "output_type": "stream",
     "text": [
      "[*********************100%***********************]  1 of 1 completed\n"
     ]
    },
    {
     "data": {
      "text/plain": [
       "'0.006432995866882063 + _AAPL(return, 10d, 1d)'"
      ]
     },
     "execution_count": 1,
     "metadata": {},
     "output_type": "execute_result"
    }
   ],
   "source": [
    "from expression import Expression\n",
    "strr = \"_AAPL(return, 1d) + _AAPL(return, 10d, 1d)\"\n",
    "expr = Expression(str_expression=strr, portfolio_assets=[\"AAPL\", \"MSFT\"])\n",
    "expr.evaluate()"
   ]
  },
  {
   "cell_type": "code",
   "execution_count": 12,
   "metadata": {},
   "outputs": [
    {
     "data": {
      "text/plain": [
       "{'_AAPL': ['_AAPL(return, 1d)']}"
      ]
     },
     "execution_count": 12,
     "metadata": {},
     "output_type": "execute_result"
    }
   ],
   "source": [
    "simple_functions_used = expr.get_simple_functions()\n",
    "simple_functions_used"
   ]
  },
  {
   "cell_type": "code",
   "execution_count": 1,
   "metadata": {},
   "outputs": [
    {
     "name": "stdout",
     "output_type": "stream",
     "text": [
      "period:  3d\n",
      "[*********************100%***********************]  1 of 1 completed\n"
     ]
    },
    {
     "data": {
      "text/html": [
       "<div>\n",
       "<style scoped>\n",
       "    .dataframe tbody tr th:only-of-type {\n",
       "        vertical-align: middle;\n",
       "    }\n",
       "\n",
       "    .dataframe tbody tr th {\n",
       "        vertical-align: top;\n",
       "    }\n",
       "\n",
       "    .dataframe thead th {\n",
       "        text-align: right;\n",
       "    }\n",
       "</style>\n",
       "<table border=\"1\" class=\"dataframe\">\n",
       "  <thead>\n",
       "    <tr style=\"text-align: right;\">\n",
       "      <th></th>\n",
       "      <th>open</th>\n",
       "      <th>high</th>\n",
       "      <th>low</th>\n",
       "      <th>close</th>\n",
       "      <th>adj_close</th>\n",
       "      <th>volume</th>\n",
       "      <th>return</th>\n",
       "    </tr>\n",
       "    <tr>\n",
       "      <th>Date</th>\n",
       "      <th></th>\n",
       "      <th></th>\n",
       "      <th></th>\n",
       "      <th></th>\n",
       "      <th></th>\n",
       "      <th></th>\n",
       "      <th></th>\n",
       "    </tr>\n",
       "  </thead>\n",
       "  <tbody>\n",
       "    <tr>\n",
       "      <th>2023-05-09</th>\n",
       "      <td>173.050003</td>\n",
       "      <td>173.539993</td>\n",
       "      <td>171.600006</td>\n",
       "      <td>171.770004</td>\n",
       "      <td>171.770004</td>\n",
       "      <td>45285300</td>\n",
       "      <td>-0.009971</td>\n",
       "    </tr>\n",
       "    <tr>\n",
       "      <th>2023-05-10</th>\n",
       "      <td>173.020004</td>\n",
       "      <td>174.029999</td>\n",
       "      <td>172.320007</td>\n",
       "      <td>173.670105</td>\n",
       "      <td>173.670105</td>\n",
       "      <td>21280764</td>\n",
       "      <td>0.011062</td>\n",
       "    </tr>\n",
       "  </tbody>\n",
       "</table>\n",
       "</div>"
      ],
      "text/plain": [
       "                  open        high         low       close   adj_close  \\\n",
       "Date                                                                     \n",
       "2023-05-09  173.050003  173.539993  171.600006  171.770004  171.770004   \n",
       "2023-05-10  173.020004  174.029999  172.320007  173.670105  173.670105   \n",
       "\n",
       "              volume    return  \n",
       "Date                            \n",
       "2023-05-09  45285300 -0.009971  \n",
       "2023-05-10  21280764  0.011062  "
      ]
     },
     "execution_count": 1,
     "metadata": {},
     "output_type": "execute_result"
    }
   ],
   "source": [
    "from numericals import Numerical\n",
    "\n",
    "numerical = Numerical()\n",
    "data = numerical.get_historical_data(\"AAPL\", period=\"2d\")\n",
    "data"
   ]
  },
  {
   "cell_type": "code",
   "execution_count": 7,
   "metadata": {},
   "outputs": [
    {
     "data": {
      "text/html": [
       "<div>\n",
       "<style scoped>\n",
       "    .dataframe tbody tr th:only-of-type {\n",
       "        vertical-align: middle;\n",
       "    }\n",
       "\n",
       "    .dataframe tbody tr th {\n",
       "        vertical-align: top;\n",
       "    }\n",
       "\n",
       "    .dataframe thead th {\n",
       "        text-align: right;\n",
       "    }\n",
       "</style>\n",
       "<table border=\"1\" class=\"dataframe\">\n",
       "  <thead>\n",
       "    <tr style=\"text-align: right;\">\n",
       "      <th></th>\n",
       "      <th>open</th>\n",
       "      <th>high</th>\n",
       "      <th>low</th>\n",
       "      <th>close</th>\n",
       "      <th>adj_close</th>\n",
       "      <th>volume</th>\n",
       "      <th>return</th>\n",
       "    </tr>\n",
       "    <tr>\n",
       "      <th>Date</th>\n",
       "      <th></th>\n",
       "      <th></th>\n",
       "      <th></th>\n",
       "      <th></th>\n",
       "      <th></th>\n",
       "      <th></th>\n",
       "      <th></th>\n",
       "    </tr>\n",
       "  </thead>\n",
       "  <tbody>\n",
       "    <tr>\n",
       "      <th>2023-05-10</th>\n",
       "      <td>173.020004</td>\n",
       "      <td>174.029999</td>\n",
       "      <td>172.320007</td>\n",
       "      <td>173.744995</td>\n",
       "      <td>173.744995</td>\n",
       "      <td>21196692</td>\n",
       "      <td>0.011498</td>\n",
       "    </tr>\n",
       "  </tbody>\n",
       "</table>\n",
       "</div>"
      ],
      "text/plain": [
       "                  open        high         low       close   adj_close  \\\n",
       "Date                                                                     \n",
       "2023-05-10  173.020004  174.029999  172.320007  173.744995  173.744995   \n",
       "\n",
       "              volume    return  \n",
       "Date                            \n",
       "2023-05-10  21196692  0.011498  "
      ]
     },
     "execution_count": 7,
     "metadata": {},
     "output_type": "execute_result"
    }
   ],
   "source": [
    "data = data.iloc[1:, :]\n",
    "data"
   ]
  },
  {
   "cell_type": "code",
   "execution_count": 14,
   "metadata": {},
   "outputs": [
    {
     "name": "stdout",
     "output_type": "stream",
     "text": [
      "[*********************100%***********************]  1 of 1 completed\n"
     ]
    },
    {
     "ename": "NameError",
     "evalue": "name 'str_expression' is not defined",
     "output_type": "error",
     "traceback": [
      "\u001b[1;31m---------------------------------------------------------------------------\u001b[0m",
      "\u001b[1;31mNameError\u001b[0m                                 Traceback (most recent call last)",
      "\u001b[1;32m<ipython-input-14-a87d2fe8056f>\u001b[0m in \u001b[0;36m<module>\u001b[1;34m\u001b[0m\n\u001b[0;32m      7\u001b[0m \u001b[1;33m\u001b[0m\u001b[0m\n\u001b[0;32m      8\u001b[0m \u001b[1;32mfor\u001b[0m \u001b[0mkey\u001b[0m \u001b[1;32min\u001b[0m \u001b[0mf_expression_results\u001b[0m\u001b[1;33m:\u001b[0m\u001b[1;33m\u001b[0m\u001b[1;33m\u001b[0m\u001b[0m\n\u001b[1;32m----> 9\u001b[1;33m     \u001b[0mstr_expression\u001b[0m \u001b[1;33m=\u001b[0m \u001b[0mstr_expression\u001b[0m\u001b[1;33m.\u001b[0m\u001b[0mreplace\u001b[0m\u001b[1;33m(\u001b[0m\u001b[0mkey\u001b[0m\u001b[1;33m,\u001b[0m \u001b[0mstr\u001b[0m\u001b[1;33m(\u001b[0m\u001b[0mf_expression_results\u001b[0m\u001b[1;33m[\u001b[0m\u001b[0mkey\u001b[0m\u001b[1;33m]\u001b[0m\u001b[1;33m)\u001b[0m\u001b[1;33m)\u001b[0m\u001b[1;33m\u001b[0m\u001b[1;33m\u001b[0m\u001b[0m\n\u001b[0m",
      "\u001b[1;31mNameError\u001b[0m: name 'str_expression' is not defined"
     ]
    }
   ],
   "source": [
    "\n",
    "f_expression_results = {}\n",
    "for f in simple_functions_used:\n",
    "    for expression in simple_functions_used[f]:\n",
    "        \n",
    "        val = evaluate_simple_function(function_=f, expression=expression)\n",
    "        f_expression_results[expression] = val\n",
    "\n",
    "for key in f_expression_results:\n",
    "    str_expression = str_expression.replace(key, str(f_expression_results[key]))"
   ]
  },
  {
   "cell_type": "code",
   "execution_count": 6,
   "metadata": {},
   "outputs": [
    {
     "name": "stdout",
     "output_type": "stream",
     "text": [
      "[*********************100%***********************]  1 of 1 completed\n"
     ]
    },
    {
     "data": {
      "text/html": [
       "<div>\n",
       "<style scoped>\n",
       "    .dataframe tbody tr th:only-of-type {\n",
       "        vertical-align: middle;\n",
       "    }\n",
       "\n",
       "    .dataframe tbody tr th {\n",
       "        vertical-align: top;\n",
       "    }\n",
       "\n",
       "    .dataframe thead th {\n",
       "        text-align: right;\n",
       "    }\n",
       "</style>\n",
       "<table border=\"1\" class=\"dataframe\">\n",
       "  <thead>\n",
       "    <tr style=\"text-align: right;\">\n",
       "      <th></th>\n",
       "      <th>Open</th>\n",
       "      <th>High</th>\n",
       "      <th>Low</th>\n",
       "      <th>Close</th>\n",
       "      <th>Adj Close</th>\n",
       "      <th>Volume</th>\n",
       "    </tr>\n",
       "    <tr>\n",
       "      <th>Date</th>\n",
       "      <th></th>\n",
       "      <th></th>\n",
       "      <th></th>\n",
       "      <th></th>\n",
       "      <th></th>\n",
       "      <th></th>\n",
       "    </tr>\n",
       "  </thead>\n",
       "  <tbody>\n",
       "    <tr>\n",
       "      <th>2023-04-27</th>\n",
       "      <td>165.190002</td>\n",
       "      <td>168.559998</td>\n",
       "      <td>165.190002</td>\n",
       "      <td>168.410004</td>\n",
       "      <td>168.410004</td>\n",
       "      <td>64902300</td>\n",
       "    </tr>\n",
       "    <tr>\n",
       "      <th>2023-04-28</th>\n",
       "      <td>168.490005</td>\n",
       "      <td>169.850006</td>\n",
       "      <td>167.880005</td>\n",
       "      <td>169.679993</td>\n",
       "      <td>169.679993</td>\n",
       "      <td>55209200</td>\n",
       "    </tr>\n",
       "    <tr>\n",
       "      <th>2023-05-01</th>\n",
       "      <td>169.279999</td>\n",
       "      <td>170.449997</td>\n",
       "      <td>168.639999</td>\n",
       "      <td>169.589996</td>\n",
       "      <td>169.589996</td>\n",
       "      <td>52472900</td>\n",
       "    </tr>\n",
       "    <tr>\n",
       "      <th>2023-05-02</th>\n",
       "      <td>170.089996</td>\n",
       "      <td>170.350006</td>\n",
       "      <td>167.539993</td>\n",
       "      <td>168.539993</td>\n",
       "      <td>168.539993</td>\n",
       "      <td>48425700</td>\n",
       "    </tr>\n",
       "    <tr>\n",
       "      <th>2023-05-03</th>\n",
       "      <td>169.500000</td>\n",
       "      <td>170.919998</td>\n",
       "      <td>167.160004</td>\n",
       "      <td>167.449997</td>\n",
       "      <td>167.449997</td>\n",
       "      <td>65136000</td>\n",
       "    </tr>\n",
       "    <tr>\n",
       "      <th>2023-05-04</th>\n",
       "      <td>164.889999</td>\n",
       "      <td>167.039993</td>\n",
       "      <td>164.309998</td>\n",
       "      <td>165.789993</td>\n",
       "      <td>165.789993</td>\n",
       "      <td>81235400</td>\n",
       "    </tr>\n",
       "    <tr>\n",
       "      <th>2023-05-05</th>\n",
       "      <td>170.979996</td>\n",
       "      <td>174.300003</td>\n",
       "      <td>170.759995</td>\n",
       "      <td>173.570007</td>\n",
       "      <td>173.570007</td>\n",
       "      <td>113316400</td>\n",
       "    </tr>\n",
       "    <tr>\n",
       "      <th>2023-05-08</th>\n",
       "      <td>172.479996</td>\n",
       "      <td>173.850006</td>\n",
       "      <td>172.110001</td>\n",
       "      <td>173.500000</td>\n",
       "      <td>173.500000</td>\n",
       "      <td>55962800</td>\n",
       "    </tr>\n",
       "    <tr>\n",
       "      <th>2023-05-09</th>\n",
       "      <td>173.050003</td>\n",
       "      <td>173.539993</td>\n",
       "      <td>171.600006</td>\n",
       "      <td>171.770004</td>\n",
       "      <td>171.770004</td>\n",
       "      <td>45285300</td>\n",
       "    </tr>\n",
       "    <tr>\n",
       "      <th>2023-05-10</th>\n",
       "      <td>173.020004</td>\n",
       "      <td>174.029999</td>\n",
       "      <td>172.410004</td>\n",
       "      <td>172.545105</td>\n",
       "      <td>172.545105</td>\n",
       "      <td>16422476</td>\n",
       "    </tr>\n",
       "  </tbody>\n",
       "</table>\n",
       "</div>"
      ],
      "text/plain": [
       "                  Open        High         Low       Close   Adj Close  \\\n",
       "Date                                                                     \n",
       "2023-04-27  165.190002  168.559998  165.190002  168.410004  168.410004   \n",
       "2023-04-28  168.490005  169.850006  167.880005  169.679993  169.679993   \n",
       "2023-05-01  169.279999  170.449997  168.639999  169.589996  169.589996   \n",
       "2023-05-02  170.089996  170.350006  167.539993  168.539993  168.539993   \n",
       "2023-05-03  169.500000  170.919998  167.160004  167.449997  167.449997   \n",
       "2023-05-04  164.889999  167.039993  164.309998  165.789993  165.789993   \n",
       "2023-05-05  170.979996  174.300003  170.759995  173.570007  173.570007   \n",
       "2023-05-08  172.479996  173.850006  172.110001  173.500000  173.500000   \n",
       "2023-05-09  173.050003  173.539993  171.600006  171.770004  171.770004   \n",
       "2023-05-10  173.020004  174.029999  172.410004  172.545105  172.545105   \n",
       "\n",
       "               Volume  \n",
       "Date                   \n",
       "2023-04-27   64902300  \n",
       "2023-04-28   55209200  \n",
       "2023-05-01   52472900  \n",
       "2023-05-02   48425700  \n",
       "2023-05-03   65136000  \n",
       "2023-05-04   81235400  \n",
       "2023-05-05  113316400  \n",
       "2023-05-08   55962800  \n",
       "2023-05-09   45285300  \n",
       "2023-05-10   16422476  "
      ]
     },
     "execution_count": 6,
     "metadata": {},
     "output_type": "execute_result"
    }
   ],
   "source": [
    "import yfinance as yf\n",
    "\n",
    "yf.download(\"AAPL\", period=\"10d\")"
   ]
  }
 ],
 "metadata": {
  "kernelspec": {
   "display_name": "base",
   "language": "python",
   "name": "python3"
  },
  "language_info": {
   "codemirror_mode": {
    "name": "ipython",
    "version": 3
   },
   "file_extension": ".py",
   "mimetype": "text/x-python",
   "name": "python",
   "nbconvert_exporter": "python",
   "pygments_lexer": "ipython3",
   "version": "3.8.8"
  },
  "orig_nbformat": 4,
  "vscode": {
   "interpreter": {
    "hash": "9ee0ec614d0abf57fdc8a4c4d1b373279e4d39776338528fabf72ad422f0613a"
   }
  }
 },
 "nbformat": 4,
 "nbformat_minor": 2
}
