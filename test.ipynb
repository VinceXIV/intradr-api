{
 "cells": [
  {
   "cell_type": "code",
   "execution_count": 11,
   "metadata": {},
   "outputs": [],
   "source": [
    "from sympy.parsing.sympy_parser import parse_expr"
   ]
  },
  {
   "cell_type": "code",
   "execution_count": 19,
   "metadata": {},
   "outputs": [
    {
     "data": {
      "text/latex": [
       "$\\displaystyle 12$"
      ],
      "text/plain": [
       "12"
      ]
     },
     "execution_count": 19,
     "metadata": {},
     "output_type": "execute_result"
    }
   ],
   "source": [
    "parse_expr(\"0.3x + 3y\", evaluate=True, local_dict={\"x\": 10, \"y\": 3, \"z\": 5}, transformations=\"all\")"
   ]
  },
  {
   "cell_type": "code",
   "execution_count": 46,
   "metadata": {},
   "outputs": [
    {
     "data": {
      "text/latex": [
       "$\\displaystyle 3$"
      ],
      "text/plain": [
       "3"
      ]
     },
     "execution_count": 46,
     "metadata": {},
     "output_type": "execute_result"
    }
   ],
   "source": [
    "# from sympy import Abs\n",
    "from sympy import *\n",
    "from sympy.abc import x\n",
    "\n",
    "parse_expr(\"max(1, 2, 3)\", local_dict={\"x\": -10}, evaluate=True)"
   ]
  },
  {
   "cell_type": "code",
   "execution_count": 1,
   "metadata": {},
   "outputs": [
    {
     "name": "stdout",
     "output_type": "stream",
     "text": [
      "[*********************100%***********************]  1 of 1 completed\n"
     ]
    },
    {
     "data": {
      "text/plain": [
       "{'period': '100d',\n",
       " 'interval': '1d',\n",
       " 'time_zone': None,\n",
       " 'average_open': 149.7589005279541,\n",
       " 'max_open': 170.97999572753906,\n",
       " 'min_open': 126.01000213623047,\n",
       " 'stdev_open': 12.544231347641734}"
      ]
     },
     "execution_count": 1,
     "metadata": {},
     "output_type": "execute_result"
    }
   ],
   "source": [
    "from numericals import Numerical\n",
    "\n",
    "numerical = Numerical()\n",
    "\n",
    "numerical.summarize_historical_data(\"AAPL\")"
   ]
  },
  {
   "cell_type": "code",
   "execution_count": 2,
   "metadata": {},
   "outputs": [
    {
     "data": {
      "text/plain": [
       "['what(the,fuck, is)', 'what(going, to, narnia)']"
      ]
     },
     "execution_count": 2,
     "metadata": {},
     "output_type": "execute_result"
    }
   ],
   "source": [
    "import re\n",
    "\n",
    "my_str = \"what(the,fuck, is) what(going, to, narnia)\"\n",
    "what = re.findall(r\"what\\(\\w+,\\s*\\w+,\\s*\\w+\\)\",my_str )\n",
    "what"
   ]
  },
  {
   "cell_type": "code",
   "execution_count": 3,
   "metadata": {},
   "outputs": [
    {
     "name": "stdout",
     "output_type": "stream",
     "text": [
      "True\n"
     ]
    }
   ],
   "source": [
    "import os\n",
    "\n",
    "os.environ['stock_symbol_key'] = \"fb6844dd-04c4-4a1e-9596-6b451a0461b3\"\n",
    "print('stock_symbol_key' in os.environ)"
   ]
  }
 ],
 "metadata": {
  "kernelspec": {
   "display_name": "base",
   "language": "python",
   "name": "python3"
  },
  "language_info": {
   "codemirror_mode": {
    "name": "ipython",
    "version": 3
   },
   "file_extension": ".py",
   "mimetype": "text/x-python",
   "name": "python",
   "nbconvert_exporter": "python",
   "pygments_lexer": "ipython3",
   "version": "3.8.8"
  },
  "orig_nbformat": 4,
  "vscode": {
   "interpreter": {
    "hash": "9ee0ec614d0abf57fdc8a4c4d1b373279e4d39776338528fabf72ad422f0613a"
   }
  }
 },
 "nbformat": 4,
 "nbformat_minor": 2
}
