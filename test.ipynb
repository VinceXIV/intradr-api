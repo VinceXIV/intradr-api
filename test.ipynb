{
 "cells": [
  {
   "cell_type": "code",
   "execution_count": 1,
   "metadata": {},
   "outputs": [],
   "source": [
    "from sympy.parsing.sympy_parser import parse_expr"
   ]
  },
  {
   "cell_type": "code",
   "execution_count": 2,
   "metadata": {},
   "outputs": [
    {
     "data": {
      "text/latex": [
       "$\\displaystyle 12$"
      ],
      "text/plain": [
       "12"
      ]
     },
     "execution_count": 2,
     "metadata": {},
     "output_type": "execute_result"
    }
   ],
   "source": [
    "parse_expr(\"0.3x + 3y\", evaluate=True, local_dict={\"x\": 10, \"y\": 3, \"z\": 5}, transformations=\"all\")"
   ]
  },
  {
   "cell_type": "code",
   "execution_count": 3,
   "metadata": {},
   "outputs": [
    {
     "data": {
      "text/latex": [
       "$\\displaystyle 3$"
      ],
      "text/plain": [
       "3"
      ]
     },
     "execution_count": 3,
     "metadata": {},
     "output_type": "execute_result"
    }
   ],
   "source": [
    "# from sympy import Abs\n",
    "from sympy import *\n",
    "from sympy.abc import x\n",
    "\n",
    "parse_expr(\"max(1, 2, 3)\", local_dict={\"x\": -10}, evaluate=True)"
   ]
  },
  {
   "cell_type": "code",
   "execution_count": 4,
   "metadata": {},
   "outputs": [
    {
     "name": "stdout",
     "output_type": "stream",
     "text": [
      "[*********************100%***********************]  1 of 1 completed\n"
     ]
    },
    {
     "data": {
      "text/plain": [
       "{'period': '100d',\n",
       " 'interval': '1d',\n",
       " 'time_zone': None,\n",
       " 'average_open': 150.29220054626464,\n",
       " 'max_open': 173.0500030517578,\n",
       " 'min_open': 126.01000213623047,\n",
       " 'stdev_open': 12.932928708865637}"
      ]
     },
     "execution_count": 4,
     "metadata": {},
     "output_type": "execute_result"
    }
   ],
   "source": [
    "from numericals import Numerical\n",
    "\n",
    "numerical = Numerical()\n",
    "\n",
    "numerical.summarize_historical_data(\"AAPL\")"
   ]
  },
  {
   "cell_type": "code",
   "execution_count": 5,
   "metadata": {},
   "outputs": [
    {
     "name": "stdout",
     "output_type": "stream",
     "text": [
      "[*********************100%***********************]  1 of 1 completed\n",
      "[*********************100%***********************]  1 of 1 completed\n"
     ]
    },
    {
     "data": {
      "text/plain": [
       "3561732671.7178106"
      ]
     },
     "execution_count": 5,
     "metadata": {},
     "output_type": "execute_result"
    }
   ],
   "source": [
    "from expression import Expression\n",
    "\n",
    "expr = Expression(str_expression=\"3x^2 + average(AAPL_return, 10d, 1m) * average(what, 5d, 1s)\", variable_dict={\"x\": 10})\n",
    "expr.evaluate(\"3x^2 + _average(AAPL_adj_close, 10d, 1d) * _average(MSFT_volume, 5d, 1d)\")"
   ]
  },
  {
   "cell_type": "code",
   "execution_count": 103,
   "metadata": {},
   "outputs": [],
   "source": [
    "import re \n",
    "\n",
    "str_ = \"what(andif, always, thes(whatever_what,3d ,1d,offf), the_fuck)\""
   ]
  },
  {
   "cell_type": "code",
   "execution_count": 104,
   "metadata": {},
   "outputs": [
    {
     "data": {
      "text/plain": [
       "['what(andif, always', 'thes(whatever_what,3d']"
      ]
     },
     "execution_count": 104,
     "metadata": {},
     "output_type": "execute_result"
    }
   ],
   "source": [
    "re.findall(r\"\\w+\\(\\w+\\s*?,\\s*?\\w+\", str_)"
   ]
  },
  {
   "cell_type": "code",
   "execution_count": 6,
   "metadata": {},
   "outputs": [
    {
     "data": {
      "text/plain": [
       "'is_this'"
      ]
     },
     "execution_count": 6,
     "metadata": {},
     "output_type": "execute_result"
    }
   ],
   "source": [
    "\"_\".join(\"what_is_this\".split(\"_\")[1:])"
   ]
  },
  {
   "cell_type": "code",
   "execution_count": 7,
   "metadata": {},
   "outputs": [
    {
     "ename": "NameError",
     "evalue": "name 'funs' is not defined",
     "output_type": "error",
     "traceback": [
      "\u001b[1;31m---------------------------------------------------------------------------\u001b[0m",
      "\u001b[1;31mNameError\u001b[0m                                 Traceback (most recent call last)",
      "\u001b[1;32m<ipython-input-7-08fca0e81f7f>\u001b[0m in \u001b[0;36m<module>\u001b[1;34m\u001b[0m\n\u001b[1;32m----> 1\u001b[1;33m \u001b[1;32mfor\u001b[0m \u001b[0mf\u001b[0m \u001b[1;32min\u001b[0m \u001b[0mfuns\u001b[0m\u001b[1;33m:\u001b[0m\u001b[1;33m\u001b[0m\u001b[1;33m\u001b[0m\u001b[0m\n\u001b[0m\u001b[0;32m      2\u001b[0m     \u001b[0mprint\u001b[0m\u001b[1;33m(\u001b[0m\u001b[0mfuns\u001b[0m\u001b[1;33m[\u001b[0m\u001b[0mf\u001b[0m\u001b[1;33m]\u001b[0m\u001b[1;33m[\u001b[0m\u001b[1;36m0\u001b[0m\u001b[1;33m]\u001b[0m\u001b[1;33m)\u001b[0m\u001b[1;33m\u001b[0m\u001b[1;33m\u001b[0m\u001b[0m\n",
      "\u001b[1;31mNameError\u001b[0m: name 'funs' is not defined"
     ]
    }
   ],
   "source": [
    "for f in funs:\n",
    "    print(funs[f][0])"
   ]
  },
  {
   "cell_type": "code",
   "execution_count": null,
   "metadata": {},
   "outputs": [
    {
     "name": "stdout",
     "output_type": "stream",
     "text": [
      "[*********************100%***********************]  1 of 1 completed\n",
      "Date\n",
      "2023-04-24     41949600\n",
      "2023-04-25     48714100\n",
      "2023-04-26     45498800\n",
      "2023-04-27     64902300\n",
      "2023-04-28     55209200\n",
      "2023-05-01     52472900\n",
      "2023-05-02     48425700\n",
      "2023-05-03     65136000\n",
      "2023-05-04     81235400\n",
      "2023-05-05    113316400\n",
      "Name: volume, dtype: int64\n",
      "61686040.0\n"
     ]
    }
   ],
   "source": [
    "for f in funs:\n",
    "    x = expr.evaluate_function(function_=f, expression=funs[f][0])\n",
    "    # print(funs[f])\n",
    "    print(x)\n",
    "\n",
    "# x = funs['average'][0]\n",
    "# x.replace(\"average(\", \"\").replace(\")\", \"\").replace(\" \", \"\").split(\",\")\n"
   ]
  },
  {
   "cell_type": "code",
   "execution_count": null,
   "metadata": {},
   "outputs": [
    {
     "name": "stdout",
     "output_type": "stream",
     "text": [
      "[*********************100%***********************]  1 of 1 completed\n"
     ]
    },
    {
     "data": {
      "text/html": [
       "<div>\n",
       "<style scoped>\n",
       "    .dataframe tbody tr th:only-of-type {\n",
       "        vertical-align: middle;\n",
       "    }\n",
       "\n",
       "    .dataframe tbody tr th {\n",
       "        vertical-align: top;\n",
       "    }\n",
       "\n",
       "    .dataframe thead th {\n",
       "        text-align: right;\n",
       "    }\n",
       "</style>\n",
       "<table border=\"1\" class=\"dataframe\">\n",
       "  <thead>\n",
       "    <tr style=\"text-align: right;\">\n",
       "      <th></th>\n",
       "      <th>open</th>\n",
       "      <th>high</th>\n",
       "      <th>low</th>\n",
       "      <th>close</th>\n",
       "      <th>adj_close</th>\n",
       "      <th>volume</th>\n",
       "      <th>return</th>\n",
       "    </tr>\n",
       "    <tr>\n",
       "      <th>Date</th>\n",
       "      <th></th>\n",
       "      <th></th>\n",
       "      <th></th>\n",
       "      <th></th>\n",
       "      <th></th>\n",
       "      <th></th>\n",
       "      <th></th>\n",
       "    </tr>\n",
       "  </thead>\n",
       "  <tbody>\n",
       "    <tr>\n",
       "      <th>2022-12-12</th>\n",
       "      <td>142.699997</td>\n",
       "      <td>144.500000</td>\n",
       "      <td>141.059998</td>\n",
       "      <td>144.490005</td>\n",
       "      <td>144.269730</td>\n",
       "      <td>70462700</td>\n",
       "      <td>NaN</td>\n",
       "    </tr>\n",
       "    <tr>\n",
       "      <th>2022-12-13</th>\n",
       "      <td>149.500000</td>\n",
       "      <td>149.970001</td>\n",
       "      <td>144.240005</td>\n",
       "      <td>145.470001</td>\n",
       "      <td>145.248230</td>\n",
       "      <td>93886200</td>\n",
       "      <td>0.006782</td>\n",
       "    </tr>\n",
       "    <tr>\n",
       "      <th>2022-12-14</th>\n",
       "      <td>145.350006</td>\n",
       "      <td>146.660004</td>\n",
       "      <td>141.160004</td>\n",
       "      <td>143.210007</td>\n",
       "      <td>142.991684</td>\n",
       "      <td>82291200</td>\n",
       "      <td>-0.015536</td>\n",
       "    </tr>\n",
       "    <tr>\n",
       "      <th>2022-12-15</th>\n",
       "      <td>141.110001</td>\n",
       "      <td>141.800003</td>\n",
       "      <td>136.029999</td>\n",
       "      <td>136.500000</td>\n",
       "      <td>136.291901</td>\n",
       "      <td>98931900</td>\n",
       "      <td>-0.046854</td>\n",
       "    </tr>\n",
       "    <tr>\n",
       "      <th>2022-12-16</th>\n",
       "      <td>136.690002</td>\n",
       "      <td>137.649994</td>\n",
       "      <td>133.729996</td>\n",
       "      <td>134.509995</td>\n",
       "      <td>134.304932</td>\n",
       "      <td>160156900</td>\n",
       "      <td>-0.014579</td>\n",
       "    </tr>\n",
       "    <tr>\n",
       "      <th>...</th>\n",
       "      <td>...</td>\n",
       "      <td>...</td>\n",
       "      <td>...</td>\n",
       "      <td>...</td>\n",
       "      <td>...</td>\n",
       "      <td>...</td>\n",
       "      <td>...</td>\n",
       "    </tr>\n",
       "    <tr>\n",
       "      <th>2023-05-01</th>\n",
       "      <td>169.279999</td>\n",
       "      <td>170.449997</td>\n",
       "      <td>168.639999</td>\n",
       "      <td>169.589996</td>\n",
       "      <td>169.589996</td>\n",
       "      <td>52472900</td>\n",
       "      <td>-0.000530</td>\n",
       "    </tr>\n",
       "    <tr>\n",
       "      <th>2023-05-02</th>\n",
       "      <td>170.089996</td>\n",
       "      <td>170.350006</td>\n",
       "      <td>167.539993</td>\n",
       "      <td>168.539993</td>\n",
       "      <td>168.539993</td>\n",
       "      <td>48425700</td>\n",
       "      <td>-0.006191</td>\n",
       "    </tr>\n",
       "    <tr>\n",
       "      <th>2023-05-03</th>\n",
       "      <td>169.500000</td>\n",
       "      <td>170.919998</td>\n",
       "      <td>167.160004</td>\n",
       "      <td>167.449997</td>\n",
       "      <td>167.449997</td>\n",
       "      <td>65136000</td>\n",
       "      <td>-0.006467</td>\n",
       "    </tr>\n",
       "    <tr>\n",
       "      <th>2023-05-04</th>\n",
       "      <td>164.889999</td>\n",
       "      <td>167.039993</td>\n",
       "      <td>164.309998</td>\n",
       "      <td>165.789993</td>\n",
       "      <td>165.789993</td>\n",
       "      <td>81235400</td>\n",
       "      <td>-0.009913</td>\n",
       "    </tr>\n",
       "    <tr>\n",
       "      <th>2023-05-05</th>\n",
       "      <td>170.979996</td>\n",
       "      <td>174.300003</td>\n",
       "      <td>170.759995</td>\n",
       "      <td>173.570007</td>\n",
       "      <td>173.570007</td>\n",
       "      <td>113316400</td>\n",
       "      <td>0.046927</td>\n",
       "    </tr>\n",
       "  </tbody>\n",
       "</table>\n",
       "<p>100 rows × 7 columns</p>\n",
       "</div>"
      ],
      "text/plain": [
       "                  open        high         low  ...   adj_close     volume    return\n",
       "Date                                            ...                                 \n",
       "2022-12-12  142.699997  144.500000  141.059998  ...  144.269730   70462700       NaN\n",
       "2022-12-13  149.500000  149.970001  144.240005  ...  145.248230   93886200  0.006782\n",
       "2022-12-14  145.350006  146.660004  141.160004  ...  142.991684   82291200 -0.015536\n",
       "2022-12-15  141.110001  141.800003  136.029999  ...  136.291901   98931900 -0.046854\n",
       "2022-12-16  136.690002  137.649994  133.729996  ...  134.304932  160156900 -0.014579\n",
       "...                ...         ...         ...  ...         ...        ...       ...\n",
       "2023-05-01  169.279999  170.449997  168.639999  ...  169.589996   52472900 -0.000530\n",
       "2023-05-02  170.089996  170.350006  167.539993  ...  168.539993   48425700 -0.006191\n",
       "2023-05-03  169.500000  170.919998  167.160004  ...  167.449997   65136000 -0.006467\n",
       "2023-05-04  164.889999  167.039993  164.309998  ...  165.789993   81235400 -0.009913\n",
       "2023-05-05  170.979996  174.300003  170.759995  ...  173.570007  113316400  0.046927\n",
       "\n",
       "[100 rows x 7 columns]"
      ]
     },
     "execution_count": 4,
     "metadata": {},
     "output_type": "execute_result"
    }
   ],
   "source": [
    "from numericals import Numerical\n",
    "\n",
    "what = Numerical()\n",
    "what.get_historical_data(\"AAPL\")"
   ]
  }
 ],
 "metadata": {
  "kernelspec": {
   "display_name": "base",
   "language": "python",
   "name": "python3"
  },
  "language_info": {
   "codemirror_mode": {
    "name": "ipython",
    "version": 3
   },
   "file_extension": ".py",
   "mimetype": "text/x-python",
   "name": "python",
   "nbconvert_exporter": "python",
   "pygments_lexer": "ipython3",
   "version": "3.8.8"
  },
  "orig_nbformat": 4,
  "vscode": {
   "interpreter": {
    "hash": "9ee0ec614d0abf57fdc8a4c4d1b373279e4d39776338528fabf72ad422f0613a"
   }
  }
 },
 "nbformat": 4,
 "nbformat_minor": 2
}
