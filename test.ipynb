{
 "cells": [
  {
   "cell_type": "code",
   "execution_count": 3,
   "metadata": {},
   "outputs": [],
   "source": [
    "from sympy.parsing.sympy_parser import parse_expr"
   ]
  },
  {
   "cell_type": "code",
   "execution_count": 2,
   "metadata": {},
   "outputs": [
    {
     "data": {
      "text/latex": [
       "$\\displaystyle 12$"
      ],
      "text/plain": [
       "12"
      ]
     },
     "execution_count": 2,
     "metadata": {},
     "output_type": "execute_result"
    }
   ],
   "source": [
    "parse_expr(\"0.3x + 3y\", evaluate=True, local_dict={\"x\": 10, \"y\": 3, \"z\": 5}, transformations=\"all\")"
   ]
  },
  {
   "cell_type": "code",
   "execution_count": 1,
   "metadata": {},
   "outputs": [
    {
     "ename": "TypeError",
     "evalue": "graph() missing 2 required positional arguments: 'assets' and 'backdate_period'",
     "output_type": "error",
     "traceback": [
      "\u001b[1;31m---------------------------------------------------------------------------\u001b[0m",
      "\u001b[1;31mTypeError\u001b[0m                                 Traceback (most recent call last)",
      "\u001b[1;32m<ipython-input-1-922d4cbea2aa>\u001b[0m in \u001b[0;36m<module>\u001b[1;34m\u001b[0m\n\u001b[0;32m      1\u001b[0m \u001b[1;32mfrom\u001b[0m \u001b[0mgraphs\u001b[0m \u001b[1;32mimport\u001b[0m \u001b[0mgraph\u001b[0m\u001b[1;33m\u001b[0m\u001b[1;33m\u001b[0m\u001b[0m\n\u001b[0;32m      2\u001b[0m \u001b[1;33m\u001b[0m\u001b[0m\n\u001b[1;32m----> 3\u001b[1;33m \u001b[0mx\u001b[0m \u001b[1;33m=\u001b[0m \u001b[0mgraph\u001b[0m\u001b[1;33m(\u001b[0m\u001b[1;33m[\u001b[0m\u001b[1;34m\"Goog = _avg(_GOOG(return, 10d, 1d))\"\u001b[0m\u001b[1;33m,\u001b[0m \u001b[1;34m\"apple_return = _AAPL(adj_close, 10d)\"\u001b[0m\u001b[1;33m]\u001b[0m\u001b[1;33m,\u001b[0m \u001b[1;33m[\u001b[0m\u001b[1;34m\"GOOG\"\u001b[0m\u001b[1;33m,\u001b[0m \u001b[1;34m\"AAPL\"\u001b[0m\u001b[1;33m]\u001b[0m\u001b[1;33m,\u001b[0m \u001b[1;36m10\u001b[0m\u001b[1;33m)\u001b[0m\u001b[1;33m\u001b[0m\u001b[1;33m\u001b[0m\u001b[0m\n\u001b[0m\u001b[0;32m      4\u001b[0m \u001b[1;31m# from expression import Expression\u001b[0m\u001b[1;33m\u001b[0m\u001b[1;33m\u001b[0m\u001b[1;33m\u001b[0m\u001b[0m\n\u001b[0;32m      5\u001b[0m \u001b[1;31m# expr = Expression(assets = [\"GOOG\"], str_expression = \"_GOOG(return, 10d, 1d)\")\u001b[0m\u001b[1;33m\u001b[0m\u001b[1;33m\u001b[0m\u001b[1;33m\u001b[0m\u001b[0m\n",
      "\u001b[1;31mTypeError\u001b[0m: graph() missing 2 required positional arguments: 'assets' and 'backdate_period'"
     ]
    }
   ],
   "source": [
    "from graphs import graph\n",
    "\n",
    "x = graph(graph=\"line\", variables=[\"Goog\"],\n",
    "    expression_array = [\"Goog = _avg(_GOOG(return, 10d, 1d))\", \"apple_return = _AAPL(adj_close, 10d)\"],\n",
    "    assets = [\"GOOG\", \"AAPL\"], backdate_period = 10)\n",
    "# from expression import Expression\n",
    "# expr = Expression(assets = [\"GOOG\"], str_expression = \"_GOOG(return, 10d, 1d)\")\n",
    "# expr.evaluate(backdate=10)"
   ]
  },
  {
   "cell_type": "code",
   "execution_count": 4,
   "metadata": {},
   "outputs": [],
   "source": [
    "x = {\"a\": [1, 2, 3], \"b\": [3, 4, 5]}\n",
    "import pandas as pd\n",
    "y = pd.DataFrame(x)"
   ]
  },
  {
   "cell_type": "code",
   "execution_count": 18,
   "metadata": {},
   "outputs": [],
   "source": [
    "from backdated import *"
   ]
  },
  {
   "cell_type": "code",
   "execution_count": 72,
   "metadata": {},
   "outputs": [],
   "source": [
    "a = get_backdated_values([\"x = _AAPL(return, 10d)\"], [\"AAPL\"], 10, False)"
   ]
  },
  {
   "cell_type": "code",
   "execution_count": 1,
   "metadata": {},
   "outputs": [
    {
     "name": "stdout",
     "output_type": "stream",
     "text": [
      "                  open        high         low       close   adj_close  \\\n",
      "Date                                                                     \n",
      "2023-04-24  165.000000  165.600006  163.889999  165.330002  165.101639   \n",
      "2023-04-25  165.190002  166.309998  163.729996  163.770004  163.543793   \n",
      "2023-04-26  163.059998  165.279999  162.800003  163.759995  163.533798   \n",
      "2023-04-27  165.190002  168.559998  165.190002  168.410004  168.177383   \n",
      "2023-04-28  168.490005  169.850006  167.880005  169.679993  169.445618   \n",
      "2023-05-01  169.279999  170.449997  168.639999  169.589996  169.355743   \n",
      "2023-05-02  170.089996  170.350006  167.539993  168.539993  168.307190   \n",
      "2023-05-03  169.500000  170.919998  167.160004  167.449997  167.218704   \n",
      "2023-05-04  164.889999  167.039993  164.309998  165.789993  165.560989   \n",
      "2023-05-05  170.979996  174.300003  170.759995  173.570007  173.330261   \n",
      "2023-05-08  172.479996  173.850006  172.110001  173.500000  173.260345   \n",
      "2023-05-09  173.050003  173.539993  171.600006  171.770004  171.532745   \n",
      "2023-05-10  173.020004  174.029999  171.899994  173.559998  173.320267   \n",
      "2023-05-11  173.850006  174.589996  172.169998  173.750000  173.510010   \n",
      "2023-05-12  173.619995  174.059998  171.000000  172.570007  172.570007   \n",
      "2023-05-15  173.160004  173.210007  171.470001  172.070007  172.070007   \n",
      "2023-05-16  171.990005  173.139999  171.800003  172.070007  172.070007   \n",
      "2023-05-17  171.710007  172.929993  170.419998  172.690002  172.690002   \n",
      "2023-05-18  173.000000  175.240005  172.580002  175.050003  175.050003   \n",
      "2023-05-19  176.389999  176.389999  174.940002  175.160004  175.160004   \n",
      "\n",
      "               volume    return  \n",
      "Date                             \n",
      "2023-04-24   41949600  0.001879  \n",
      "2023-04-25   48714100 -0.009436  \n",
      "2023-04-26   45498800 -0.000061  \n",
      "2023-04-27   64902300  0.028395  \n",
      "2023-04-28   55209200  0.007541  \n",
      "2023-05-01   52472900 -0.000530  \n",
      "2023-05-02   48425700 -0.006191  \n",
      "2023-05-03   65136000 -0.006467  \n",
      "2023-05-04   81235400 -0.009913  \n",
      "2023-05-05  113316400  0.046927  \n",
      "2023-05-08   55962800 -0.000403  \n",
      "2023-05-09   45326900 -0.009971  \n",
      "2023-05-10   53724500  0.010421  \n",
      "2023-05-11   49514700  0.001095  \n",
      "2023-05-12   45497800 -0.005418  \n",
      "2023-05-15   37266700 -0.002897  \n",
      "2023-05-16   42110300  0.000000  \n",
      "2023-05-17   57951600  0.003603  \n",
      "2023-05-18   65496700  0.013666  \n",
      "2023-05-19   55772400  0.000628  \n"
     ]
    },
    {
     "data": {
      "text/html": [
       "<div>\n",
       "<style scoped>\n",
       "    .dataframe tbody tr th:only-of-type {\n",
       "        vertical-align: middle;\n",
       "    }\n",
       "\n",
       "    .dataframe tbody tr th {\n",
       "        vertical-align: top;\n",
       "    }\n",
       "\n",
       "    .dataframe thead th {\n",
       "        text-align: right;\n",
       "    }\n",
       "</style>\n",
       "<table border=\"1\" class=\"dataframe\">\n",
       "  <thead>\n",
       "    <tr style=\"text-align: right;\">\n",
       "      <th></th>\n",
       "      <th>open</th>\n",
       "      <th>high</th>\n",
       "      <th>low</th>\n",
       "      <th>close</th>\n",
       "      <th>adj_close</th>\n",
       "      <th>volume</th>\n",
       "      <th>return</th>\n",
       "    </tr>\n",
       "    <tr>\n",
       "      <th>Date</th>\n",
       "      <th></th>\n",
       "      <th></th>\n",
       "      <th></th>\n",
       "      <th></th>\n",
       "      <th></th>\n",
       "      <th></th>\n",
       "      <th></th>\n",
       "    </tr>\n",
       "  </thead>\n",
       "  <tbody>\n",
       "    <tr>\n",
       "      <th>2023-04-24</th>\n",
       "      <td>165.000000</td>\n",
       "      <td>165.600006</td>\n",
       "      <td>163.889999</td>\n",
       "      <td>165.330002</td>\n",
       "      <td>165.101639</td>\n",
       "      <td>41949600</td>\n",
       "      <td>0.001879</td>\n",
       "    </tr>\n",
       "    <tr>\n",
       "      <th>2023-04-25</th>\n",
       "      <td>165.190002</td>\n",
       "      <td>166.309998</td>\n",
       "      <td>163.729996</td>\n",
       "      <td>163.770004</td>\n",
       "      <td>163.543793</td>\n",
       "      <td>48714100</td>\n",
       "      <td>-0.009436</td>\n",
       "    </tr>\n",
       "    <tr>\n",
       "      <th>2023-04-26</th>\n",
       "      <td>163.059998</td>\n",
       "      <td>165.279999</td>\n",
       "      <td>162.800003</td>\n",
       "      <td>163.759995</td>\n",
       "      <td>163.533798</td>\n",
       "      <td>45498800</td>\n",
       "      <td>-0.000061</td>\n",
       "    </tr>\n",
       "    <tr>\n",
       "      <th>2023-04-27</th>\n",
       "      <td>165.190002</td>\n",
       "      <td>168.559998</td>\n",
       "      <td>165.190002</td>\n",
       "      <td>168.410004</td>\n",
       "      <td>168.177383</td>\n",
       "      <td>64902300</td>\n",
       "      <td>0.028395</td>\n",
       "    </tr>\n",
       "    <tr>\n",
       "      <th>2023-04-28</th>\n",
       "      <td>168.490005</td>\n",
       "      <td>169.850006</td>\n",
       "      <td>167.880005</td>\n",
       "      <td>169.679993</td>\n",
       "      <td>169.445618</td>\n",
       "      <td>55209200</td>\n",
       "      <td>0.007541</td>\n",
       "    </tr>\n",
       "    <tr>\n",
       "      <th>2023-05-01</th>\n",
       "      <td>169.279999</td>\n",
       "      <td>170.449997</td>\n",
       "      <td>168.639999</td>\n",
       "      <td>169.589996</td>\n",
       "      <td>169.355743</td>\n",
       "      <td>52472900</td>\n",
       "      <td>-0.000530</td>\n",
       "    </tr>\n",
       "    <tr>\n",
       "      <th>2023-05-02</th>\n",
       "      <td>170.089996</td>\n",
       "      <td>170.350006</td>\n",
       "      <td>167.539993</td>\n",
       "      <td>168.539993</td>\n",
       "      <td>168.307190</td>\n",
       "      <td>48425700</td>\n",
       "      <td>-0.006191</td>\n",
       "    </tr>\n",
       "    <tr>\n",
       "      <th>2023-05-03</th>\n",
       "      <td>169.500000</td>\n",
       "      <td>170.919998</td>\n",
       "      <td>167.160004</td>\n",
       "      <td>167.449997</td>\n",
       "      <td>167.218704</td>\n",
       "      <td>65136000</td>\n",
       "      <td>-0.006467</td>\n",
       "    </tr>\n",
       "    <tr>\n",
       "      <th>2023-05-04</th>\n",
       "      <td>164.889999</td>\n",
       "      <td>167.039993</td>\n",
       "      <td>164.309998</td>\n",
       "      <td>165.789993</td>\n",
       "      <td>165.560989</td>\n",
       "      <td>81235400</td>\n",
       "      <td>-0.009913</td>\n",
       "    </tr>\n",
       "    <tr>\n",
       "      <th>2023-05-05</th>\n",
       "      <td>170.979996</td>\n",
       "      <td>174.300003</td>\n",
       "      <td>170.759995</td>\n",
       "      <td>173.570007</td>\n",
       "      <td>173.330261</td>\n",
       "      <td>113316400</td>\n",
       "      <td>0.046927</td>\n",
       "    </tr>\n",
       "  </tbody>\n",
       "</table>\n",
       "</div>"
      ],
      "text/plain": [
       "                  open        high         low       close   adj_close  \\\n",
       "Date                                                                     \n",
       "2023-04-24  165.000000  165.600006  163.889999  165.330002  165.101639   \n",
       "2023-04-25  165.190002  166.309998  163.729996  163.770004  163.543793   \n",
       "2023-04-26  163.059998  165.279999  162.800003  163.759995  163.533798   \n",
       "2023-04-27  165.190002  168.559998  165.190002  168.410004  168.177383   \n",
       "2023-04-28  168.490005  169.850006  167.880005  169.679993  169.445618   \n",
       "2023-05-01  169.279999  170.449997  168.639999  169.589996  169.355743   \n",
       "2023-05-02  170.089996  170.350006  167.539993  168.539993  168.307190   \n",
       "2023-05-03  169.500000  170.919998  167.160004  167.449997  167.218704   \n",
       "2023-05-04  164.889999  167.039993  164.309998  165.789993  165.560989   \n",
       "2023-05-05  170.979996  174.300003  170.759995  173.570007  173.330261   \n",
       "\n",
       "               volume    return  \n",
       "Date                             \n",
       "2023-04-24   41949600  0.001879  \n",
       "2023-04-25   48714100 -0.009436  \n",
       "2023-04-26   45498800 -0.000061  \n",
       "2023-04-27   64902300  0.028395  \n",
       "2023-04-28   55209200  0.007541  \n",
       "2023-05-01   52472900 -0.000530  \n",
       "2023-05-02   48425700 -0.006191  \n",
       "2023-05-03   65136000 -0.006467  \n",
       "2023-05-04   81235400 -0.009913  \n",
       "2023-05-05  113316400  0.046927  "
      ]
     },
     "execution_count": 1,
     "metadata": {},
     "output_type": "execute_result"
    }
   ],
   "source": [
    "from numericals import Numerical\n",
    "nm = Numerical()\n",
    "\n",
    "nm.get_historical_data(ticker=\"AAPL\", period=\"10d\", interval=\"1d\", backdate=10)"
   ]
  },
  {
   "cell_type": "code",
   "execution_count": 76,
   "metadata": {},
   "outputs": [
    {
     "data": {
      "text/plain": [
       "['w', 'k']"
      ]
     },
     "execution_count": 76,
     "metadata": {},
     "output_type": "execute_result"
    }
   ],
   "source": [
    "import re\n",
    "re.findall(r\"[a-zA-Z]\", '10wk')"
   ]
  },
  {
   "cell_type": "code",
   "execution_count": 23,
   "metadata": {},
   "outputs": [
    {
     "ename": "TypeError",
     "evalue": "unsupported operand type(s) for /: 'One' and 'MutableDenseMatrix'",
     "output_type": "error",
     "traceback": [
      "\u001b[1;31m---------------------------------------------------------------------------\u001b[0m",
      "\u001b[1;31mValueError\u001b[0m                                Traceback (most recent call last)",
      "\u001b[1;31mValueError\u001b[0m: Error from parse_expr with transformed code: 'm /m '",
      "\nThe above exception was the direct cause of the following exception:\n",
      "\u001b[1;31mTypeError\u001b[0m                                 Traceback (most recent call last)",
      "\u001b[1;32m<ipython-input-23-899cb4704196>\u001b[0m in \u001b[0;36m<module>\u001b[1;34m\u001b[0m\n\u001b[0;32m      3\u001b[0m \u001b[0mm\u001b[0m \u001b[1;33m=\u001b[0m \u001b[0mMatrix\u001b[0m\u001b[1;33m(\u001b[0m\u001b[1;33m[\u001b[0m\u001b[1;36m1\u001b[0m\u001b[1;33m,\u001b[0m \u001b[1;36m2\u001b[0m\u001b[1;33m,\u001b[0m \u001b[1;36m3\u001b[0m\u001b[1;33m]\u001b[0m\u001b[1;33m)\u001b[0m\u001b[1;33m\u001b[0m\u001b[1;33m\u001b[0m\u001b[0m\n\u001b[0;32m      4\u001b[0m \u001b[1;33m\u001b[0m\u001b[0m\n\u001b[1;32m----> 5\u001b[1;33m \u001b[0mparse_expr\u001b[0m\u001b[1;33m(\u001b[0m\u001b[1;34m\"m/m\"\u001b[0m\u001b[1;33m,\u001b[0m \u001b[0mlocal_dict\u001b[0m\u001b[1;33m=\u001b[0m\u001b[1;33m{\u001b[0m\u001b[1;34m\"m\"\u001b[0m\u001b[1;33m:\u001b[0m \u001b[0mm\u001b[0m\u001b[1;33m}\u001b[0m\u001b[1;33m,\u001b[0m \u001b[0mevaluate\u001b[0m\u001b[1;33m=\u001b[0m\u001b[1;32mTrue\u001b[0m\u001b[1;33m)\u001b[0m\u001b[1;33m\u001b[0m\u001b[1;33m\u001b[0m\u001b[0m\n\u001b[0m",
      "\u001b[1;32md:\\Apps\\Anaconda\\Anaconda\\lib\\site-packages\\sympy\\parsing\\sympy_parser.py\u001b[0m in \u001b[0;36mparse_expr\u001b[1;34m(s, local_dict, transformations, global_dict, evaluate)\u001b[0m\n\u001b[0;32m   1099\u001b[0m         \u001b[1;32mfor\u001b[0m \u001b[0mi\u001b[0m \u001b[1;32min\u001b[0m \u001b[0mlocal_dict\u001b[0m\u001b[1;33m.\u001b[0m\u001b[0mpop\u001b[0m\u001b[1;33m(\u001b[0m\u001b[0mnull\u001b[0m\u001b[1;33m,\u001b[0m \u001b[1;33m(\u001b[0m\u001b[1;33m)\u001b[0m\u001b[1;33m)\u001b[0m\u001b[1;33m:\u001b[0m\u001b[1;33m\u001b[0m\u001b[1;33m\u001b[0m\u001b[0m\n\u001b[0;32m   1100\u001b[0m             \u001b[0mlocal_dict\u001b[0m\u001b[1;33m[\u001b[0m\u001b[0mi\u001b[0m\u001b[1;33m]\u001b[0m \u001b[1;33m=\u001b[0m \u001b[0mnull\u001b[0m\u001b[1;33m\u001b[0m\u001b[1;33m\u001b[0m\u001b[0m\n\u001b[1;32m-> 1101\u001b[1;33m         \u001b[1;32mraise\u001b[0m \u001b[0me\u001b[0m \u001b[1;32mfrom\u001b[0m \u001b[0mValueError\u001b[0m\u001b[1;33m(\u001b[0m\u001b[1;34mf\"Error from parse_expr with transformed code: {code!r}\"\u001b[0m\u001b[1;33m)\u001b[0m\u001b[1;33m\u001b[0m\u001b[1;33m\u001b[0m\u001b[0m\n\u001b[0m\u001b[0;32m   1102\u001b[0m \u001b[1;33m\u001b[0m\u001b[0m\n\u001b[0;32m   1103\u001b[0m \u001b[1;33m\u001b[0m\u001b[0m\n",
      "\u001b[1;32md:\\Apps\\Anaconda\\Anaconda\\lib\\site-packages\\sympy\\parsing\\sympy_parser.py\u001b[0m in \u001b[0;36mparse_expr\u001b[1;34m(s, local_dict, transformations, global_dict, evaluate)\u001b[0m\n\u001b[0;32m   1090\u001b[0m \u001b[1;33m\u001b[0m\u001b[0m\n\u001b[0;32m   1091\u001b[0m     \u001b[1;32mtry\u001b[0m\u001b[1;33m:\u001b[0m\u001b[1;33m\u001b[0m\u001b[1;33m\u001b[0m\u001b[0m\n\u001b[1;32m-> 1092\u001b[1;33m         \u001b[0mrv\u001b[0m \u001b[1;33m=\u001b[0m \u001b[0meval_expr\u001b[0m\u001b[1;33m(\u001b[0m\u001b[0mcode\u001b[0m\u001b[1;33m,\u001b[0m \u001b[0mlocal_dict\u001b[0m\u001b[1;33m,\u001b[0m \u001b[0mglobal_dict\u001b[0m\u001b[1;33m)\u001b[0m\u001b[1;33m\u001b[0m\u001b[1;33m\u001b[0m\u001b[0m\n\u001b[0m\u001b[0;32m   1093\u001b[0m         \u001b[1;31m# restore neutral definitions for names\u001b[0m\u001b[1;33m\u001b[0m\u001b[1;33m\u001b[0m\u001b[1;33m\u001b[0m\u001b[0m\n\u001b[0;32m   1094\u001b[0m         \u001b[1;32mfor\u001b[0m \u001b[0mi\u001b[0m \u001b[1;32min\u001b[0m \u001b[0mlocal_dict\u001b[0m\u001b[1;33m.\u001b[0m\u001b[0mpop\u001b[0m\u001b[1;33m(\u001b[0m\u001b[0mnull\u001b[0m\u001b[1;33m,\u001b[0m \u001b[1;33m(\u001b[0m\u001b[1;33m)\u001b[0m\u001b[1;33m)\u001b[0m\u001b[1;33m:\u001b[0m\u001b[1;33m\u001b[0m\u001b[1;33m\u001b[0m\u001b[0m\n",
      "\u001b[1;32md:\\Apps\\Anaconda\\Anaconda\\lib\\site-packages\\sympy\\parsing\\sympy_parser.py\u001b[0m in \u001b[0;36meval_expr\u001b[1;34m(code, local_dict, global_dict)\u001b[0m\n\u001b[0;32m    905\u001b[0m     \u001b[0mGenerally\u001b[0m\u001b[1;33m,\u001b[0m\u001b[0;31m \u001b[0m\u001b[0;31m`\u001b[0m\u001b[0;31m`\u001b[0m\u001b[0mparse_expr\u001b[0m\u001b[0;31m`\u001b[0m\u001b[0;31m`\u001b[0m \u001b[0mshould\u001b[0m \u001b[0mbe\u001b[0m \u001b[0mused\u001b[0m\u001b[1;33m.\u001b[0m\u001b[1;33m\u001b[0m\u001b[1;33m\u001b[0m\u001b[0m\n\u001b[0;32m    906\u001b[0m     \"\"\"\n\u001b[1;32m--> 907\u001b[1;33m     expr = eval(\n\u001b[0m\u001b[0;32m    908\u001b[0m         code, global_dict, local_dict)  # take local objects in preference\n\u001b[0;32m    909\u001b[0m     \u001b[1;32mreturn\u001b[0m \u001b[0mexpr\u001b[0m\u001b[1;33m\u001b[0m\u001b[1;33m\u001b[0m\u001b[0m\n",
      "\u001b[1;32m<string>\u001b[0m in \u001b[0;36m<module>\u001b[1;34m\u001b[0m\n",
      "\u001b[1;32md:\\Apps\\Anaconda\\Anaconda\\lib\\site-packages\\sympy\\core\\decorators.py\u001b[0m in \u001b[0;36mbinary_op_wrapper\u001b[1;34m(self, other)\u001b[0m\n\u001b[0;32m    104\u001b[0m                     \u001b[1;32mif\u001b[0m \u001b[0mf\u001b[0m \u001b[1;32mis\u001b[0m \u001b[1;32mnot\u001b[0m \u001b[1;32mNone\u001b[0m\u001b[1;33m:\u001b[0m\u001b[1;33m\u001b[0m\u001b[1;33m\u001b[0m\u001b[0m\n\u001b[0;32m    105\u001b[0m                         \u001b[1;32mreturn\u001b[0m \u001b[0mf\u001b[0m\u001b[1;33m(\u001b[0m\u001b[0mself\u001b[0m\u001b[1;33m)\u001b[0m\u001b[1;33m\u001b[0m\u001b[1;33m\u001b[0m\u001b[0m\n\u001b[1;32m--> 106\u001b[1;33m             \u001b[1;32mreturn\u001b[0m \u001b[0mfunc\u001b[0m\u001b[1;33m(\u001b[0m\u001b[0mself\u001b[0m\u001b[1;33m,\u001b[0m \u001b[0mother\u001b[0m\u001b[1;33m)\u001b[0m\u001b[1;33m\u001b[0m\u001b[1;33m\u001b[0m\u001b[0m\n\u001b[0m\u001b[0;32m    107\u001b[0m         \u001b[1;32mreturn\u001b[0m \u001b[0mbinary_op_wrapper\u001b[0m\u001b[1;33m\u001b[0m\u001b[1;33m\u001b[0m\u001b[0m\n\u001b[0;32m    108\u001b[0m     \u001b[1;32mreturn\u001b[0m \u001b[0mpriority_decorator\u001b[0m\u001b[1;33m\u001b[0m\u001b[1;33m\u001b[0m\u001b[0m\n",
      "\u001b[1;32md:\\Apps\\Anaconda\\Anaconda\\lib\\site-packages\\sympy\\matrices\\common.py\u001b[0m in \u001b[0;36m__truediv__\u001b[1;34m(self, other)\u001b[0m\n\u001b[0;32m   2727\u001b[0m     \u001b[1;33m@\u001b[0m\u001b[0mcall_highest_priority\u001b[0m\u001b[1;33m(\u001b[0m\u001b[1;34m'__rtruediv__'\u001b[0m\u001b[1;33m)\u001b[0m\u001b[1;33m\u001b[0m\u001b[1;33m\u001b[0m\u001b[0m\n\u001b[0;32m   2728\u001b[0m     \u001b[1;32mdef\u001b[0m \u001b[0m__truediv__\u001b[0m\u001b[1;33m(\u001b[0m\u001b[0mself\u001b[0m\u001b[1;33m,\u001b[0m \u001b[0mother\u001b[0m\u001b[1;33m)\u001b[0m\u001b[1;33m:\u001b[0m\u001b[1;33m\u001b[0m\u001b[1;33m\u001b[0m\u001b[0m\n\u001b[1;32m-> 2729\u001b[1;33m         \u001b[1;32mreturn\u001b[0m \u001b[0mself\u001b[0m \u001b[1;33m*\u001b[0m \u001b[1;33m(\u001b[0m\u001b[0mself\u001b[0m\u001b[1;33m.\u001b[0m\u001b[0mone\u001b[0m \u001b[1;33m/\u001b[0m \u001b[0mother\u001b[0m\u001b[1;33m)\u001b[0m\u001b[1;33m\u001b[0m\u001b[1;33m\u001b[0m\u001b[0m\n\u001b[0m\u001b[0;32m   2730\u001b[0m \u001b[1;33m\u001b[0m\u001b[0m\n\u001b[0;32m   2731\u001b[0m     \u001b[1;33m@\u001b[0m\u001b[0mcall_highest_priority\u001b[0m\u001b[1;33m(\u001b[0m\u001b[1;34m'__rmatmul__'\u001b[0m\u001b[1;33m)\u001b[0m\u001b[1;33m\u001b[0m\u001b[1;33m\u001b[0m\u001b[0m\n",
      "\u001b[1;31mTypeError\u001b[0m: unsupported operand type(s) for /: 'One' and 'MutableDenseMatrix'"
     ]
    }
   ],
   "source": [
    "from sympy import Matrix, parse_expr\n",
    "\n",
    "m = Matrix([1, 2, 3])\n",
    "\n",
    "parse_expr(\"m/m\", local_dict={\"m\": m}, evaluate=True)"
   ]
  },
  {
   "cell_type": "code",
   "execution_count": 1,
   "metadata": {},
   "outputs": [
    {
     "name": "stdout",
     "output_type": "stream",
     "text": [
      "[*********************100%***********************]  1 of 1 completed\n"
     ]
    },
    {
     "data": {
      "text/html": [
       "<div>\n",
       "<style scoped>\n",
       "    .dataframe tbody tr th:only-of-type {\n",
       "        vertical-align: middle;\n",
       "    }\n",
       "\n",
       "    .dataframe tbody tr th {\n",
       "        vertical-align: top;\n",
       "    }\n",
       "\n",
       "    .dataframe thead th {\n",
       "        text-align: right;\n",
       "    }\n",
       "</style>\n",
       "<table border=\"1\" class=\"dataframe\">\n",
       "  <thead>\n",
       "    <tr style=\"text-align: right;\">\n",
       "      <th></th>\n",
       "      <th>open</th>\n",
       "      <th>high</th>\n",
       "      <th>low</th>\n",
       "      <th>close</th>\n",
       "      <th>adj_close</th>\n",
       "      <th>volume</th>\n",
       "      <th>return</th>\n",
       "    </tr>\n",
       "    <tr>\n",
       "      <th>Date</th>\n",
       "      <th></th>\n",
       "      <th></th>\n",
       "      <th></th>\n",
       "      <th></th>\n",
       "      <th></th>\n",
       "      <th></th>\n",
       "      <th></th>\n",
       "    </tr>\n",
       "  </thead>\n",
       "  <tbody>\n",
       "    <tr>\n",
       "      <th>2023-05-02</th>\n",
       "      <td>170.089996</td>\n",
       "      <td>170.350006</td>\n",
       "      <td>167.539993</td>\n",
       "      <td>168.539993</td>\n",
       "      <td>168.307190</td>\n",
       "      <td>48425700</td>\n",
       "      <td>-0.006191</td>\n",
       "    </tr>\n",
       "    <tr>\n",
       "      <th>2023-05-03</th>\n",
       "      <td>169.500000</td>\n",
       "      <td>170.919998</td>\n",
       "      <td>167.160004</td>\n",
       "      <td>167.449997</td>\n",
       "      <td>167.218704</td>\n",
       "      <td>65136000</td>\n",
       "      <td>-0.006467</td>\n",
       "    </tr>\n",
       "    <tr>\n",
       "      <th>2023-05-04</th>\n",
       "      <td>164.889999</td>\n",
       "      <td>167.039993</td>\n",
       "      <td>164.309998</td>\n",
       "      <td>165.789993</td>\n",
       "      <td>165.560989</td>\n",
       "      <td>81235400</td>\n",
       "      <td>-0.009913</td>\n",
       "    </tr>\n",
       "    <tr>\n",
       "      <th>2023-05-05</th>\n",
       "      <td>170.979996</td>\n",
       "      <td>174.300003</td>\n",
       "      <td>170.759995</td>\n",
       "      <td>173.570007</td>\n",
       "      <td>173.330261</td>\n",
       "      <td>113316400</td>\n",
       "      <td>0.046927</td>\n",
       "    </tr>\n",
       "    <tr>\n",
       "      <th>2023-05-08</th>\n",
       "      <td>172.479996</td>\n",
       "      <td>173.850006</td>\n",
       "      <td>172.110001</td>\n",
       "      <td>173.500000</td>\n",
       "      <td>173.260345</td>\n",
       "      <td>55962800</td>\n",
       "      <td>-0.000403</td>\n",
       "    </tr>\n",
       "    <tr>\n",
       "      <th>2023-05-09</th>\n",
       "      <td>173.050003</td>\n",
       "      <td>173.539993</td>\n",
       "      <td>171.600006</td>\n",
       "      <td>171.770004</td>\n",
       "      <td>171.532745</td>\n",
       "      <td>45326900</td>\n",
       "      <td>-0.009971</td>\n",
       "    </tr>\n",
       "    <tr>\n",
       "      <th>2023-05-10</th>\n",
       "      <td>173.020004</td>\n",
       "      <td>174.029999</td>\n",
       "      <td>171.899994</td>\n",
       "      <td>173.559998</td>\n",
       "      <td>173.320267</td>\n",
       "      <td>53724500</td>\n",
       "      <td>0.010421</td>\n",
       "    </tr>\n",
       "    <tr>\n",
       "      <th>2023-05-11</th>\n",
       "      <td>173.850006</td>\n",
       "      <td>174.589996</td>\n",
       "      <td>172.169998</td>\n",
       "      <td>173.750000</td>\n",
       "      <td>173.510010</td>\n",
       "      <td>49514700</td>\n",
       "      <td>0.001095</td>\n",
       "    </tr>\n",
       "    <tr>\n",
       "      <th>2023-05-12</th>\n",
       "      <td>173.619995</td>\n",
       "      <td>174.059998</td>\n",
       "      <td>171.000000</td>\n",
       "      <td>172.570007</td>\n",
       "      <td>172.570007</td>\n",
       "      <td>45497800</td>\n",
       "      <td>-0.005418</td>\n",
       "    </tr>\n",
       "    <tr>\n",
       "      <th>2023-05-15</th>\n",
       "      <td>173.160004</td>\n",
       "      <td>173.210007</td>\n",
       "      <td>171.470001</td>\n",
       "      <td>171.779999</td>\n",
       "      <td>171.779999</td>\n",
       "      <td>25535808</td>\n",
       "      <td>-0.004578</td>\n",
       "    </tr>\n",
       "  </tbody>\n",
       "</table>\n",
       "</div>"
      ],
      "text/plain": [
       "                  open        high         low       close   adj_close  \\\n",
       "Date                                                                     \n",
       "2023-05-02  170.089996  170.350006  167.539993  168.539993  168.307190   \n",
       "2023-05-03  169.500000  170.919998  167.160004  167.449997  167.218704   \n",
       "2023-05-04  164.889999  167.039993  164.309998  165.789993  165.560989   \n",
       "2023-05-05  170.979996  174.300003  170.759995  173.570007  173.330261   \n",
       "2023-05-08  172.479996  173.850006  172.110001  173.500000  173.260345   \n",
       "2023-05-09  173.050003  173.539993  171.600006  171.770004  171.532745   \n",
       "2023-05-10  173.020004  174.029999  171.899994  173.559998  173.320267   \n",
       "2023-05-11  173.850006  174.589996  172.169998  173.750000  173.510010   \n",
       "2023-05-12  173.619995  174.059998  171.000000  172.570007  172.570007   \n",
       "2023-05-15  173.160004  173.210007  171.470001  171.779999  171.779999   \n",
       "\n",
       "               volume    return  \n",
       "Date                             \n",
       "2023-05-02   48425700 -0.006191  \n",
       "2023-05-03   65136000 -0.006467  \n",
       "2023-05-04   81235400 -0.009913  \n",
       "2023-05-05  113316400  0.046927  \n",
       "2023-05-08   55962800 -0.000403  \n",
       "2023-05-09   45326900 -0.009971  \n",
       "2023-05-10   53724500  0.010421  \n",
       "2023-05-11   49514700  0.001095  \n",
       "2023-05-12   45497800 -0.005418  \n",
       "2023-05-15   25535808 -0.004578  "
      ]
     },
     "execution_count": 1,
     "metadata": {},
     "output_type": "execute_result"
    }
   ],
   "source": [
    "from numericals import Numerical\n",
    "\n",
    "numer = Numerical()\n",
    "numer.get_historical_data(\"AAPL\", \"10d\", \"1d\")"
   ]
  },
  {
   "cell_type": "code",
   "execution_count": 2,
   "metadata": {},
   "outputs": [
    {
     "name": "stdout",
     "output_type": "stream",
     "text": [
      "[*********************100%***********************]  1 of 1 completed\n"
     ]
    },
    {
     "data": {
      "text/html": [
       "<div>\n",
       "<style scoped>\n",
       "    .dataframe tbody tr th:only-of-type {\n",
       "        vertical-align: middle;\n",
       "    }\n",
       "\n",
       "    .dataframe tbody tr th {\n",
       "        vertical-align: top;\n",
       "    }\n",
       "\n",
       "    .dataframe thead th {\n",
       "        text-align: right;\n",
       "    }\n",
       "</style>\n",
       "<table border=\"1\" class=\"dataframe\">\n",
       "  <thead>\n",
       "    <tr style=\"text-align: right;\">\n",
       "      <th></th>\n",
       "      <th>open</th>\n",
       "      <th>high</th>\n",
       "      <th>low</th>\n",
       "      <th>close</th>\n",
       "      <th>adj_close</th>\n",
       "      <th>volume</th>\n",
       "      <th>return</th>\n",
       "    </tr>\n",
       "    <tr>\n",
       "      <th>Date</th>\n",
       "      <th></th>\n",
       "      <th></th>\n",
       "      <th></th>\n",
       "      <th></th>\n",
       "      <th></th>\n",
       "      <th></th>\n",
       "      <th></th>\n",
       "    </tr>\n",
       "  </thead>\n",
       "  <tbody>\n",
       "    <tr>\n",
       "      <th>2023-04-28</th>\n",
       "      <td>168.490005</td>\n",
       "      <td>169.850006</td>\n",
       "      <td>167.880005</td>\n",
       "      <td>169.679993</td>\n",
       "      <td>169.445618</td>\n",
       "      <td>55209200</td>\n",
       "      <td>0.007541</td>\n",
       "    </tr>\n",
       "    <tr>\n",
       "      <th>2023-05-01</th>\n",
       "      <td>169.279999</td>\n",
       "      <td>170.449997</td>\n",
       "      <td>168.639999</td>\n",
       "      <td>169.589996</td>\n",
       "      <td>169.355743</td>\n",
       "      <td>52472900</td>\n",
       "      <td>-0.000530</td>\n",
       "    </tr>\n",
       "    <tr>\n",
       "      <th>2023-05-02</th>\n",
       "      <td>170.089996</td>\n",
       "      <td>170.350006</td>\n",
       "      <td>167.539993</td>\n",
       "      <td>168.539993</td>\n",
       "      <td>168.307190</td>\n",
       "      <td>48425700</td>\n",
       "      <td>-0.006191</td>\n",
       "    </tr>\n",
       "    <tr>\n",
       "      <th>2023-05-03</th>\n",
       "      <td>169.500000</td>\n",
       "      <td>170.919998</td>\n",
       "      <td>167.160004</td>\n",
       "      <td>167.449997</td>\n",
       "      <td>167.218704</td>\n",
       "      <td>65136000</td>\n",
       "      <td>-0.006467</td>\n",
       "    </tr>\n",
       "    <tr>\n",
       "      <th>2023-05-04</th>\n",
       "      <td>164.889999</td>\n",
       "      <td>167.039993</td>\n",
       "      <td>164.309998</td>\n",
       "      <td>165.789993</td>\n",
       "      <td>165.560989</td>\n",
       "      <td>81235400</td>\n",
       "      <td>-0.009913</td>\n",
       "    </tr>\n",
       "    <tr>\n",
       "      <th>2023-05-05</th>\n",
       "      <td>170.979996</td>\n",
       "      <td>174.300003</td>\n",
       "      <td>170.759995</td>\n",
       "      <td>173.570007</td>\n",
       "      <td>173.330261</td>\n",
       "      <td>113316400</td>\n",
       "      <td>0.046927</td>\n",
       "    </tr>\n",
       "    <tr>\n",
       "      <th>2023-05-08</th>\n",
       "      <td>172.479996</td>\n",
       "      <td>173.850006</td>\n",
       "      <td>172.110001</td>\n",
       "      <td>173.500000</td>\n",
       "      <td>173.260345</td>\n",
       "      <td>55962800</td>\n",
       "      <td>-0.000403</td>\n",
       "    </tr>\n",
       "    <tr>\n",
       "      <th>2023-05-09</th>\n",
       "      <td>173.050003</td>\n",
       "      <td>173.539993</td>\n",
       "      <td>171.600006</td>\n",
       "      <td>171.770004</td>\n",
       "      <td>171.532745</td>\n",
       "      <td>45326900</td>\n",
       "      <td>-0.009971</td>\n",
       "    </tr>\n",
       "    <tr>\n",
       "      <th>2023-05-10</th>\n",
       "      <td>173.020004</td>\n",
       "      <td>174.029999</td>\n",
       "      <td>171.899994</td>\n",
       "      <td>173.559998</td>\n",
       "      <td>173.320267</td>\n",
       "      <td>53724500</td>\n",
       "      <td>0.010421</td>\n",
       "    </tr>\n",
       "    <tr>\n",
       "      <th>2023-05-11</th>\n",
       "      <td>173.850006</td>\n",
       "      <td>174.589996</td>\n",
       "      <td>172.169998</td>\n",
       "      <td>173.750000</td>\n",
       "      <td>173.510010</td>\n",
       "      <td>49514700</td>\n",
       "      <td>0.001095</td>\n",
       "    </tr>\n",
       "  </tbody>\n",
       "</table>\n",
       "</div>"
      ],
      "text/plain": [
       "                  open        high         low       close   adj_close  \\\n",
       "Date                                                                     \n",
       "2023-04-28  168.490005  169.850006  167.880005  169.679993  169.445618   \n",
       "2023-05-01  169.279999  170.449997  168.639999  169.589996  169.355743   \n",
       "2023-05-02  170.089996  170.350006  167.539993  168.539993  168.307190   \n",
       "2023-05-03  169.500000  170.919998  167.160004  167.449997  167.218704   \n",
       "2023-05-04  164.889999  167.039993  164.309998  165.789993  165.560989   \n",
       "2023-05-05  170.979996  174.300003  170.759995  173.570007  173.330261   \n",
       "2023-05-08  172.479996  173.850006  172.110001  173.500000  173.260345   \n",
       "2023-05-09  173.050003  173.539993  171.600006  171.770004  171.532745   \n",
       "2023-05-10  173.020004  174.029999  171.899994  173.559998  173.320267   \n",
       "2023-05-11  173.850006  174.589996  172.169998  173.750000  173.510010   \n",
       "\n",
       "               volume    return  \n",
       "Date                             \n",
       "2023-04-28   55209200  0.007541  \n",
       "2023-05-01   52472900 -0.000530  \n",
       "2023-05-02   48425700 -0.006191  \n",
       "2023-05-03   65136000 -0.006467  \n",
       "2023-05-04   81235400 -0.009913  \n",
       "2023-05-05  113316400  0.046927  \n",
       "2023-05-08   55962800 -0.000403  \n",
       "2023-05-09   45326900 -0.009971  \n",
       "2023-05-10   53724500  0.010421  \n",
       "2023-05-11   49514700  0.001095  "
      ]
     },
     "execution_count": 2,
     "metadata": {},
     "output_type": "execute_result"
    }
   ],
   "source": [
    "numer.get_historical_data(\"AAPL\", \"10d\", \"1d\", backdate=2)"
   ]
  },
  {
   "cell_type": "code",
   "execution_count": 3,
   "metadata": {},
   "outputs": [
    {
     "name": "stdout",
     "output_type": "stream",
     "text": [
      "evaluating complex expression\n",
      "expression:  _avg(3)\n",
      "innermost functions:  ['_avg(3)']\n",
      "{'AAPLreturn10d1d_0': Matrix([\n",
      "[-0.000530401841079775],\n",
      "[ -0.00619142549107132],\n",
      "[ -0.00646725620071475],\n",
      "[ -0.00991345347068961],\n",
      "[   0.0469269474632046],\n",
      "[-0.000403367369252505],\n",
      "[ -0.00997112231930308],\n",
      "[   0.0104208753759483],\n",
      "[  0.00109475392335234],\n",
      "[ -0.00541756894991818]]), 'avgAAPLreturn10d1d0_0': 0.0019547981120475954}\n",
      "avg3_0\n"
     ]
    },
    {
     "data": {
      "text/latex": [
       "$\\displaystyle 3.0$"
      ],
      "text/plain": [
       "3.00000000000000"
      ]
     },
     "execution_count": 3,
     "metadata": {},
     "output_type": "execute_result"
    }
   ],
   "source": [
    "from expression import Expression\n",
    "\n",
    "expr = Expression(assets=[\"AAPL\"], str_expression=\"_avg(3)\")\n",
    "expr.evaluate()"
   ]
  },
  {
   "cell_type": "code",
   "execution_count": 10,
   "metadata": {},
   "outputs": [
    {
     "data": {
      "text/plain": [
       "['x**2', '3*x**2', 'AAPLreturn10d1d_0 + 3*x**2']"
      ]
     },
     "execution_count": 10,
     "metadata": {},
     "output_type": "execute_result"
    }
   ],
   "source": [
    "from expressiontree import *\n",
    "\n",
    "# solve_expression(\"3x^2 + AAPLreturn10d1d_0\", variable_dict={\"AAPLreturn10d1d_0\": 10}  )\n",
    "get_ordered_operations(\"3x^2 + AAPLreturn10d1d_0\")"
   ]
  },
  {
   "cell_type": "code",
   "execution_count": 10,
   "metadata": {},
   "outputs": [
    {
     "data": {
      "text/latex": [
       "$\\displaystyle \\left[\\begin{matrix}30 & 60 & 90\\end{matrix}\\right]$"
      ],
      "text/plain": [
       "Matrix([[30, 60, 90]])"
      ]
     },
     "execution_count": 10,
     "metadata": {},
     "output_type": "execute_result"
    }
   ],
   "source": [
    "from expressiontree import *\n",
    "\n",
    "solve_expression(\"x *  30\", {\"x\": Matrix([1, 2, 3]).T, \"y\": Matrix([2, 3, 4])})"
   ]
  },
  {
   "cell_type": "code",
   "execution_count": 51,
   "metadata": {},
   "outputs": [
    {
     "data": {
      "text/plain": [
       "['x + y + 100']"
      ]
     },
     "execution_count": 51,
     "metadata": {},
     "output_type": "execute_result"
    }
   ],
   "source": [
    "# solve_expression(\"x + y + 100\", {\"x\": 3, \"y\": 10})\n",
    "get_ordered_operations(\"x + (y + 100)\")"
   ]
  },
  {
   "cell_type": "code",
   "execution_count": 4,
   "metadata": {},
   "outputs": [
    {
     "data": {
      "text/plain": [
       "0"
      ]
     },
     "execution_count": 4,
     "metadata": {},
     "output_type": "execute_result"
    }
   ],
   "source": [
    "import pandas as pd\n",
    "\n",
    "len(pd.DataFrame())"
   ]
  },
  {
   "cell_type": "code",
   "execution_count": 15,
   "metadata": {},
   "outputs": [
    {
     "ename": "NameError",
     "evalue": "name 'result' is not defined",
     "output_type": "error",
     "traceback": [
      "\u001b[1;31m---------------------------------------------------------------------------\u001b[0m",
      "\u001b[1;31mNameError\u001b[0m                                 Traceback (most recent call last)",
      "\u001b[1;32m<ipython-input-15-543d46cd7dc7>\u001b[0m in \u001b[0;36m<module>\u001b[1;34m\u001b[0m\n\u001b[0;32m      7\u001b[0m     \u001b[1;32mpass\u001b[0m\u001b[1;33m\u001b[0m\u001b[1;33m\u001b[0m\u001b[0m\n\u001b[0;32m      8\u001b[0m \u001b[1;33m\u001b[0m\u001b[0m\n\u001b[1;32m----> 9\u001b[1;33m \u001b[0mprint\u001b[0m\u001b[1;33m(\u001b[0m\u001b[0mresult\u001b[0m\u001b[1;33m)\u001b[0m\u001b[1;33m\u001b[0m\u001b[1;33m\u001b[0m\u001b[0m\n\u001b[0m",
      "\u001b[1;31mNameError\u001b[0m: name 'result' is not defined"
     ]
    }
   ],
   "source": [
    "from expression import Expression\n",
    "expr = Expression(portfolio_assets = [\"AAPL\", \"MSFT\"], str_expression = \"_max(_AAPL(return, 10d, 1d)) + 0.1\")\n",
    "\n",
    "try:\n",
    "    result = expr.evaluate(\"this is the part of me\")\n",
    "except SyntaxError:\n",
    "    pass\n",
    "\n",
    "print(result)"
   ]
  },
  {
   "cell_type": "code",
   "execution_count": 4,
   "metadata": {},
   "outputs": [
    {
     "data": {
      "text/plain": [
       "['2*y', 'x**(2*y)', '3*x', '3*x + x**(2*y) + 7']"
      ]
     },
     "execution_count": 4,
     "metadata": {},
     "output_type": "execute_result"
    }
   ],
   "source": [
    "from expressiontree import *\n",
    "get_ordered_operations(\"x^(2y) + 3x + 7\")"
   ]
  },
  {
   "cell_type": "code",
   "execution_count": 26,
   "metadata": {},
   "outputs": [
    {
     "ename": "TypeError",
     "evalue": "cannot add <class 'sympy.matrices.dense.MutableDenseMatrix'> and <class 'int'>",
     "output_type": "error",
     "traceback": [
      "\u001b[1;31m---------------------------------------------------------------------------\u001b[0m",
      "\u001b[1;31mTypeError\u001b[0m                                 Traceback (most recent call last)",
      "\u001b[1;32m<ipython-input-26-e5bd9224cda7>\u001b[0m in \u001b[0;36m<module>\u001b[1;34m\u001b[0m\n\u001b[0;32m      1\u001b[0m \u001b[1;32mfrom\u001b[0m \u001b[0msympy\u001b[0m \u001b[1;32mimport\u001b[0m \u001b[1;33m*\u001b[0m\u001b[1;33m\u001b[0m\u001b[1;33m\u001b[0m\u001b[0m\n\u001b[0;32m      2\u001b[0m \u001b[1;33m\u001b[0m\u001b[0m\n\u001b[1;32m----> 3\u001b[1;33m \u001b[0mMatrix\u001b[0m\u001b[1;33m(\u001b[0m\u001b[1;33m[\u001b[0m\u001b[1;36m1\u001b[0m\u001b[1;33m,\u001b[0m \u001b[1;36m2\u001b[0m\u001b[1;33m,\u001b[0m \u001b[1;36m2\u001b[0m\u001b[1;33m]\u001b[0m\u001b[1;33m)\u001b[0m \u001b[1;33m+\u001b[0m \u001b[1;36m3\u001b[0m\u001b[1;33m\u001b[0m\u001b[1;33m\u001b[0m\u001b[0m\n\u001b[0m",
      "\u001b[1;32md:\\Apps\\Anaconda\\Anaconda\\lib\\site-packages\\sympy\\core\\decorators.py\u001b[0m in \u001b[0;36mbinary_op_wrapper\u001b[1;34m(self, other)\u001b[0m\n\u001b[0;32m    104\u001b[0m                     \u001b[1;32mif\u001b[0m \u001b[0mf\u001b[0m \u001b[1;32mis\u001b[0m \u001b[1;32mnot\u001b[0m \u001b[1;32mNone\u001b[0m\u001b[1;33m:\u001b[0m\u001b[1;33m\u001b[0m\u001b[1;33m\u001b[0m\u001b[0m\n\u001b[0;32m    105\u001b[0m                         \u001b[1;32mreturn\u001b[0m \u001b[0mf\u001b[0m\u001b[1;33m(\u001b[0m\u001b[0mself\u001b[0m\u001b[1;33m)\u001b[0m\u001b[1;33m\u001b[0m\u001b[1;33m\u001b[0m\u001b[0m\n\u001b[1;32m--> 106\u001b[1;33m             \u001b[1;32mreturn\u001b[0m \u001b[0mfunc\u001b[0m\u001b[1;33m(\u001b[0m\u001b[0mself\u001b[0m\u001b[1;33m,\u001b[0m \u001b[0mother\u001b[0m\u001b[1;33m)\u001b[0m\u001b[1;33m\u001b[0m\u001b[1;33m\u001b[0m\u001b[0m\n\u001b[0m\u001b[0;32m    107\u001b[0m         \u001b[1;32mreturn\u001b[0m \u001b[0mbinary_op_wrapper\u001b[0m\u001b[1;33m\u001b[0m\u001b[1;33m\u001b[0m\u001b[0m\n\u001b[0;32m    108\u001b[0m     \u001b[1;32mreturn\u001b[0m \u001b[0mpriority_decorator\u001b[0m\u001b[1;33m\u001b[0m\u001b[1;33m\u001b[0m\u001b[0m\n",
      "\u001b[1;32md:\\Apps\\Anaconda\\Anaconda\\lib\\site-packages\\sympy\\matrices\\common.py\u001b[0m in \u001b[0;36m__add__\u001b[1;34m(self, other)\u001b[0m\n\u001b[0;32m   2723\u001b[0m             \u001b[1;32mreturn\u001b[0m \u001b[0mMatrixArithmetic\u001b[0m\u001b[1;33m.\u001b[0m\u001b[0m_eval_add\u001b[0m\u001b[1;33m(\u001b[0m\u001b[0mself\u001b[0m\u001b[1;33m,\u001b[0m \u001b[0mother\u001b[0m\u001b[1;33m)\u001b[0m\u001b[1;33m\u001b[0m\u001b[1;33m\u001b[0m\u001b[0m\n\u001b[0;32m   2724\u001b[0m \u001b[1;33m\u001b[0m\u001b[0m\n\u001b[1;32m-> 2725\u001b[1;33m         \u001b[1;32mraise\u001b[0m \u001b[0mTypeError\u001b[0m\u001b[1;33m(\u001b[0m\u001b[1;34m'cannot add %s and %s'\u001b[0m \u001b[1;33m%\u001b[0m \u001b[1;33m(\u001b[0m\u001b[0mtype\u001b[0m\u001b[1;33m(\u001b[0m\u001b[0mself\u001b[0m\u001b[1;33m)\u001b[0m\u001b[1;33m,\u001b[0m \u001b[0mtype\u001b[0m\u001b[1;33m(\u001b[0m\u001b[0mother\u001b[0m\u001b[1;33m)\u001b[0m\u001b[1;33m)\u001b[0m\u001b[1;33m)\u001b[0m\u001b[1;33m\u001b[0m\u001b[1;33m\u001b[0m\u001b[0m\n\u001b[0m\u001b[0;32m   2726\u001b[0m \u001b[1;33m\u001b[0m\u001b[0m\n\u001b[0;32m   2727\u001b[0m     \u001b[1;33m@\u001b[0m\u001b[0mcall_highest_priority\u001b[0m\u001b[1;33m(\u001b[0m\u001b[1;34m'__rtruediv__'\u001b[0m\u001b[1;33m)\u001b[0m\u001b[1;33m\u001b[0m\u001b[1;33m\u001b[0m\u001b[0m\n",
      "\u001b[1;31mTypeError\u001b[0m: cannot add <class 'sympy.matrices.dense.MutableDenseMatrix'> and <class 'int'>"
     ]
    }
   ],
   "source": [
    "from sympy import *\n",
    "\n",
    "Matrix([1, 2, 2]) + 3"
   ]
  },
  {
   "cell_type": "code",
   "execution_count": 8,
   "metadata": {},
   "outputs": [
    {
     "ename": "NameError",
     "evalue": "name 'str_' is not defined",
     "output_type": "error",
     "traceback": [
      "\u001b[1;31m---------------------------------------------------------------------------\u001b[0m",
      "\u001b[1;31mNameError\u001b[0m                                 Traceback (most recent call last)",
      "\u001b[1;32m<ipython-input-8-f62ab9335875>\u001b[0m in \u001b[0;36m<module>\u001b[1;34m\u001b[0m\n\u001b[0;32m     10\u001b[0m     \u001b[1;32mreturn\u001b[0m \u001b[0mre\u001b[0m\u001b[1;33m.\u001b[0m\u001b[0mfindall\u001b[0m\u001b[1;33m(\u001b[0m\u001b[0mregex\u001b[0m\u001b[1;33m,\u001b[0m \u001b[0mstr_expression\u001b[0m\u001b[1;33m)\u001b[0m\u001b[1;33m\u001b[0m\u001b[1;33m\u001b[0m\u001b[0m\n\u001b[0;32m     11\u001b[0m \u001b[1;33m\u001b[0m\u001b[0m\n\u001b[1;32m---> 12\u001b[1;33m \u001b[0mwhat\u001b[0m \u001b[1;33m=\u001b[0m \u001b[0mget_innermost_functions\u001b[0m\u001b[1;33m(\u001b[0m\u001b[0mstr_\u001b[0m\u001b[1;33m,\u001b[0m \u001b[1;36m3\u001b[0m\u001b[1;33m)\u001b[0m\u001b[1;33m\u001b[0m\u001b[1;33m\u001b[0m\u001b[0m\n\u001b[0m\u001b[0;32m     13\u001b[0m \u001b[0mwhat\u001b[0m\u001b[1;33m\u001b[0m\u001b[1;33m\u001b[0m\u001b[0m\n",
      "\u001b[1;31mNameError\u001b[0m: name 'str_' is not defined"
     ]
    }
   ],
   "source": [
    "def get_innermost_functions(str_expression, arguments_count):\n",
    "\n",
    "    # The \",\\s*\\w+\" extracts a single argument. We want to be flexible with the\n",
    "    # number of arguments we can extract. For instance, if we wnat to extract\n",
    "    # an inner function that accepts two arguments, the regex for that will\n",
    "    # be r\"\\w+\\(\\w+\\s*,\\s*\\w+\\)\". That is what we are doing here\n",
    "    r = \"\".join([\",\\s*\\w+\\s*\" for i in range(arguments_count-1)]) + r\"\\)\"\n",
    "    regex = r\"\\w+\\(\\s*\\w+\\s*\" + r\n",
    "\n",
    "    return re.findall(regex, str_expression)\n",
    "\n",
    "what = get_innermost_functions(str_, 3)\n",
    "what"
   ]
  },
  {
   "cell_type": "code",
   "execution_count": 2,
   "metadata": {},
   "outputs": [
    {
     "data": {
      "text/plain": [
       "['_AAPL', '_What']"
      ]
     },
     "execution_count": 2,
     "metadata": {},
     "output_type": "execute_result"
    }
   ],
   "source": [
    "my_arr = [\"AAPL\", \"What\"]\n",
    "what = [\"_\"+i for i in my_arr]\n",
    "what"
   ]
  },
  {
   "cell_type": "code",
   "execution_count": 1,
   "metadata": {},
   "outputs": [
    {
     "name": "stdout",
     "output_type": "stream",
     "text": [
      "[*********************100%***********************]  1 of 1 completed\n"
     ]
    },
    {
     "data": {
      "text/plain": [
       "'0.006432995866882063 + _AAPL(return, 10d, 1d)'"
      ]
     },
     "execution_count": 1,
     "metadata": {},
     "output_type": "execute_result"
    }
   ],
   "source": [
    "from expression import Expression\n",
    "strr = \"_AAPL(return, 1d) + _AAPL(return, 10d, 1d)\"\n",
    "expr = Expression(str_expression=strr, portfolio_assets=[\"AAPL\", \"MSFT\"])\n",
    "expr.evaluate()"
   ]
  },
  {
   "cell_type": "code",
   "execution_count": 2,
   "metadata": {},
   "outputs": [
    {
     "name": "stdout",
     "output_type": "stream",
     "text": [
      "[*********************100%***********************]  1 of 1 completed\n"
     ]
    },
    {
     "data": {
      "text/html": [
       "<div>\n",
       "<style scoped>\n",
       "    .dataframe tbody tr th:only-of-type {\n",
       "        vertical-align: middle;\n",
       "    }\n",
       "\n",
       "    .dataframe tbody tr th {\n",
       "        vertical-align: top;\n",
       "    }\n",
       "\n",
       "    .dataframe thead th {\n",
       "        text-align: right;\n",
       "    }\n",
       "</style>\n",
       "<table border=\"1\" class=\"dataframe\">\n",
       "  <thead>\n",
       "    <tr style=\"text-align: right;\">\n",
       "      <th></th>\n",
       "      <th>date</th>\n",
       "      <th>open</th>\n",
       "      <th>high</th>\n",
       "      <th>low</th>\n",
       "      <th>close</th>\n",
       "      <th>adj_close</th>\n",
       "      <th>volume</th>\n",
       "      <th>return</th>\n",
       "    </tr>\n",
       "  </thead>\n",
       "  <tbody>\n",
       "    <tr>\n",
       "      <th>1</th>\n",
       "      <td>2023-04-27</td>\n",
       "      <td>165.190002</td>\n",
       "      <td>168.559998</td>\n",
       "      <td>165.190002</td>\n",
       "      <td>168.410004</td>\n",
       "      <td>168.177383</td>\n",
       "      <td>64902300</td>\n",
       "      <td>0.028395</td>\n",
       "    </tr>\n",
       "    <tr>\n",
       "      <th>2</th>\n",
       "      <td>2023-04-28</td>\n",
       "      <td>168.490005</td>\n",
       "      <td>169.850006</td>\n",
       "      <td>167.880005</td>\n",
       "      <td>169.679993</td>\n",
       "      <td>169.445618</td>\n",
       "      <td>55209200</td>\n",
       "      <td>0.007541</td>\n",
       "    </tr>\n",
       "    <tr>\n",
       "      <th>3</th>\n",
       "      <td>2023-05-01</td>\n",
       "      <td>169.279999</td>\n",
       "      <td>170.449997</td>\n",
       "      <td>168.639999</td>\n",
       "      <td>169.589996</td>\n",
       "      <td>169.355743</td>\n",
       "      <td>52472900</td>\n",
       "      <td>-0.000530</td>\n",
       "    </tr>\n",
       "    <tr>\n",
       "      <th>4</th>\n",
       "      <td>2023-05-02</td>\n",
       "      <td>170.089996</td>\n",
       "      <td>170.350006</td>\n",
       "      <td>167.539993</td>\n",
       "      <td>168.539993</td>\n",
       "      <td>168.307190</td>\n",
       "      <td>48425700</td>\n",
       "      <td>-0.006191</td>\n",
       "    </tr>\n",
       "    <tr>\n",
       "      <th>5</th>\n",
       "      <td>2023-05-03</td>\n",
       "      <td>169.500000</td>\n",
       "      <td>170.919998</td>\n",
       "      <td>167.160004</td>\n",
       "      <td>167.449997</td>\n",
       "      <td>167.218704</td>\n",
       "      <td>65136000</td>\n",
       "      <td>-0.006467</td>\n",
       "    </tr>\n",
       "    <tr>\n",
       "      <th>6</th>\n",
       "      <td>2023-05-04</td>\n",
       "      <td>164.889999</td>\n",
       "      <td>167.039993</td>\n",
       "      <td>164.309998</td>\n",
       "      <td>165.789993</td>\n",
       "      <td>165.560989</td>\n",
       "      <td>81235400</td>\n",
       "      <td>-0.009913</td>\n",
       "    </tr>\n",
       "    <tr>\n",
       "      <th>7</th>\n",
       "      <td>2023-05-05</td>\n",
       "      <td>170.979996</td>\n",
       "      <td>174.300003</td>\n",
       "      <td>170.759995</td>\n",
       "      <td>173.570007</td>\n",
       "      <td>173.330261</td>\n",
       "      <td>113316400</td>\n",
       "      <td>0.046927</td>\n",
       "    </tr>\n",
       "    <tr>\n",
       "      <th>8</th>\n",
       "      <td>2023-05-08</td>\n",
       "      <td>172.479996</td>\n",
       "      <td>173.850006</td>\n",
       "      <td>172.110001</td>\n",
       "      <td>173.500000</td>\n",
       "      <td>173.260345</td>\n",
       "      <td>55962800</td>\n",
       "      <td>-0.000403</td>\n",
       "    </tr>\n",
       "    <tr>\n",
       "      <th>9</th>\n",
       "      <td>2023-05-09</td>\n",
       "      <td>173.050003</td>\n",
       "      <td>173.539993</td>\n",
       "      <td>171.600006</td>\n",
       "      <td>171.770004</td>\n",
       "      <td>171.532745</td>\n",
       "      <td>45326900</td>\n",
       "      <td>-0.009971</td>\n",
       "    </tr>\n",
       "    <tr>\n",
       "      <th>10</th>\n",
       "      <td>2023-05-10</td>\n",
       "      <td>173.020004</td>\n",
       "      <td>174.029999</td>\n",
       "      <td>171.899994</td>\n",
       "      <td>173.559998</td>\n",
       "      <td>173.320267</td>\n",
       "      <td>53724500</td>\n",
       "      <td>0.010421</td>\n",
       "    </tr>\n",
       "    <tr>\n",
       "      <th>11</th>\n",
       "      <td>2023-05-11</td>\n",
       "      <td>173.850006</td>\n",
       "      <td>174.589996</td>\n",
       "      <td>172.169998</td>\n",
       "      <td>173.750000</td>\n",
       "      <td>173.510010</td>\n",
       "      <td>49514700</td>\n",
       "      <td>0.001095</td>\n",
       "    </tr>\n",
       "    <tr>\n",
       "      <th>12</th>\n",
       "      <td>2023-05-12</td>\n",
       "      <td>173.619995</td>\n",
       "      <td>174.059998</td>\n",
       "      <td>171.000000</td>\n",
       "      <td>172.570007</td>\n",
       "      <td>172.570007</td>\n",
       "      <td>45497800</td>\n",
       "      <td>-0.005418</td>\n",
       "    </tr>\n",
       "    <tr>\n",
       "      <th>13</th>\n",
       "      <td>2023-05-15</td>\n",
       "      <td>173.160004</td>\n",
       "      <td>173.210007</td>\n",
       "      <td>171.470001</td>\n",
       "      <td>172.070007</td>\n",
       "      <td>172.070007</td>\n",
       "      <td>37266700</td>\n",
       "      <td>-0.002897</td>\n",
       "    </tr>\n",
       "    <tr>\n",
       "      <th>14</th>\n",
       "      <td>2023-05-16</td>\n",
       "      <td>171.990005</td>\n",
       "      <td>173.139999</td>\n",
       "      <td>171.800003</td>\n",
       "      <td>172.070007</td>\n",
       "      <td>172.070007</td>\n",
       "      <td>42110300</td>\n",
       "      <td>0.000000</td>\n",
       "    </tr>\n",
       "    <tr>\n",
       "      <th>15</th>\n",
       "      <td>2023-05-17</td>\n",
       "      <td>171.710007</td>\n",
       "      <td>172.929993</td>\n",
       "      <td>170.419998</td>\n",
       "      <td>172.690002</td>\n",
       "      <td>172.690002</td>\n",
       "      <td>57951600</td>\n",
       "      <td>0.003603</td>\n",
       "    </tr>\n",
       "    <tr>\n",
       "      <th>16</th>\n",
       "      <td>2023-05-18</td>\n",
       "      <td>173.000000</td>\n",
       "      <td>175.240005</td>\n",
       "      <td>172.580002</td>\n",
       "      <td>175.050003</td>\n",
       "      <td>175.050003</td>\n",
       "      <td>65496700</td>\n",
       "      <td>0.013666</td>\n",
       "    </tr>\n",
       "    <tr>\n",
       "      <th>17</th>\n",
       "      <td>2023-05-19</td>\n",
       "      <td>176.389999</td>\n",
       "      <td>176.389999</td>\n",
       "      <td>174.940002</td>\n",
       "      <td>175.160004</td>\n",
       "      <td>175.160004</td>\n",
       "      <td>55772400</td>\n",
       "      <td>0.000628</td>\n",
       "    </tr>\n",
       "  </tbody>\n",
       "</table>\n",
       "</div>"
      ],
      "text/plain": [
       "         date        open        high         low       close   adj_close  \\\n",
       "1  2023-04-27  165.190002  168.559998  165.190002  168.410004  168.177383   \n",
       "2  2023-04-28  168.490005  169.850006  167.880005  169.679993  169.445618   \n",
       "3  2023-05-01  169.279999  170.449997  168.639999  169.589996  169.355743   \n",
       "4  2023-05-02  170.089996  170.350006  167.539993  168.539993  168.307190   \n",
       "5  2023-05-03  169.500000  170.919998  167.160004  167.449997  167.218704   \n",
       "6  2023-05-04  164.889999  167.039993  164.309998  165.789993  165.560989   \n",
       "7  2023-05-05  170.979996  174.300003  170.759995  173.570007  173.330261   \n",
       "8  2023-05-08  172.479996  173.850006  172.110001  173.500000  173.260345   \n",
       "9  2023-05-09  173.050003  173.539993  171.600006  171.770004  171.532745   \n",
       "10 2023-05-10  173.020004  174.029999  171.899994  173.559998  173.320267   \n",
       "11 2023-05-11  173.850006  174.589996  172.169998  173.750000  173.510010   \n",
       "12 2023-05-12  173.619995  174.059998  171.000000  172.570007  172.570007   \n",
       "13 2023-05-15  173.160004  173.210007  171.470001  172.070007  172.070007   \n",
       "14 2023-05-16  171.990005  173.139999  171.800003  172.070007  172.070007   \n",
       "15 2023-05-17  171.710007  172.929993  170.419998  172.690002  172.690002   \n",
       "16 2023-05-18  173.000000  175.240005  172.580002  175.050003  175.050003   \n",
       "17 2023-05-19  176.389999  176.389999  174.940002  175.160004  175.160004   \n",
       "\n",
       "       volume    return  \n",
       "1    64902300  0.028395  \n",
       "2    55209200  0.007541  \n",
       "3    52472900 -0.000530  \n",
       "4    48425700 -0.006191  \n",
       "5    65136000 -0.006467  \n",
       "6    81235400 -0.009913  \n",
       "7   113316400  0.046927  \n",
       "8    55962800 -0.000403  \n",
       "9    45326900 -0.009971  \n",
       "10   53724500  0.010421  \n",
       "11   49514700  0.001095  \n",
       "12   45497800 -0.005418  \n",
       "13   37266700 -0.002897  \n",
       "14   42110300  0.000000  \n",
       "15   57951600  0.003603  \n",
       "16   65496700  0.013666  \n",
       "17   55772400  0.000628  "
      ]
     },
     "execution_count": 2,
     "metadata": {},
     "output_type": "execute_result"
    }
   ],
   "source": [
    "import yfinance as yf\n",
    "\n",
    "what  = yf.download(tickers=\"AAPL\", period=\"10d\", interval=\"1d\")\n",
    "what = what.reset_index(\"Date\")\n",
    "what\n",
    "\n",
    "from numericals import Numerical\n",
    "\n",
    "nu = Numerical()\n",
    "nu.get_historical_data(ticker=\"AAPL\", period=\"10d\", interval=\"1d\", backdate=7)\n",
    "nu.historical_data"
   ]
  },
  {
   "cell_type": "code",
   "execution_count": 8,
   "metadata": {},
   "outputs": [
    {
     "name": "stderr",
     "output_type": "stream",
     "text": [
      "<ipython-input-8-b933f63de4ed>:5: SettingWithCopyWarning: \n",
      "A value is trying to be set on a copy of a slice from a DataFrame.\n",
      "Try using .loc[row_indexer,col_indexer] = value instead\n",
      "\n",
      "See the caveats in the documentation: https://pandas.pydata.org/pandas-docs/stable/user_guide/indexing.html#returning-a-view-versus-a-copy\n",
      "  data['date'] = data['date'].astype(\"datetime64[ns]\")\n"
     ]
    },
    {
     "data": {
      "text/plain": [
       "1   2023-05-11\n",
       "2   2023-05-12\n",
       "Name: date, dtype: datetime64[ns]"
      ]
     },
     "execution_count": 8,
     "metadata": {},
     "output_type": "execute_result"
    }
   ],
   "source": [
    "from numericals import Numerical\n",
    "\n",
    "numerical = Numerical()\n",
    "data = numerical.get_historical_data(\"AAPL\", period=\"2d\", backdate=5)\n",
    "data['date'] = data['date'].astype(\"datetime64[ns]\")\n",
    "data['date']"
   ]
  },
  {
   "cell_type": "code",
   "execution_count": 38,
   "metadata": {},
   "outputs": [
    {
     "data": {
      "text/plain": [
       "1    True\n",
       "2    True\n",
       "Name: date, dtype: bool"
      ]
     },
     "execution_count": 38,
     "metadata": {},
     "output_type": "execute_result"
    }
   ],
   "source": [
    "data['date'].dt.date > (datetime.today().date() - timedelta(days=10))"
   ]
  },
  {
   "cell_type": "code",
   "execution_count": 9,
   "metadata": {},
   "outputs": [
    {
     "data": {
      "text/latex": [
       "$\\displaystyle \\left[\\begin{matrix}1 & 4\\\\2 & 5\\\\3 & 6\\end{matrix}\\right]$"
      ],
      "text/plain": [
       "Matrix([\n",
       "[1, 4],\n",
       "[2, 5],\n",
       "[3, 6]])"
      ]
     },
     "execution_count": 9,
     "metadata": {},
     "output_type": "execute_result"
    }
   ],
   "source": [
    "from sympy import Matrix\n",
    "\n",
    "x = Matrix([1, 2, 3])\n",
    "y = Matrix([4, 5, 6])\n",
    "z = Matrix([x, y])\n",
    "z = z.reshape(2, 3).transpose()\n",
    "z"
   ]
  },
  {
   "cell_type": "code",
   "execution_count": 1,
   "metadata": {},
   "outputs": [
    {
     "data": {
      "text/latex": [
       "$\\displaystyle \\left[\\begin{matrix}-0.0106500112164236\\\\0.00974198647882777\\\\0.000415865026231807\\\\-0.00609645784703871\\\\-0.00357626375241981\\\\-0.000678888897120533\\\\0.00292426732300611\\\\0.0129872213408031\\\\-5.0493533316764 \\cdot 10^{-5}\\\\-0.0050172249225493\\end{matrix}\\right]$"
      ],
      "text/plain": [
       "Matrix([\n",
       "[  -0.0106500112164236],\n",
       "[  0.00974198647882777],\n",
       "[ 0.000415865026231807],\n",
       "[ -0.00609645784703871],\n",
       "[ -0.00357626375241981],\n",
       "[-0.000678888897120533],\n",
       "[  0.00292426732300611],\n",
       "[   0.0129872213408031],\n",
       "[  -5.0493533316764e-5],\n",
       "[  -0.0050172249225493]])"
      ]
     },
     "execution_count": 1,
     "metadata": {},
     "output_type": "execute_result"
    }
   ],
   "source": [
    "from expression import Expression\n",
    "import re\n",
    "\n",
    "expr = Expression(assets=[\"AAPL\"], str_expression = \"galdj\")\n",
    "a = expr.evaluate(\"_AAPL(return, 10d, 1d) - _mavg(_AAPL(return, 10d, 1d))\")\n",
    "a"
   ]
  },
  {
   "cell_type": "code",
   "execution_count": 3,
   "metadata": {},
   "outputs": [],
   "source": [
    "from scipy.optimize import linprog\n",
    "\n",
    "obj = [-1, -2]\n",
    "lhs_ineq = [[ 2,  1], [-4,  5], [ 1, -2]] \n",
    "rhs_ineq = [20, 10, 2]\n",
    "\n",
    "lhs_eq = [[-1, 5]]\n",
    "rhs_eq = [15]"
   ]
  },
  {
   "cell_type": "code",
   "execution_count": 63,
   "metadata": {},
   "outputs": [],
   "source": [
    "import copy\n",
    "def get_function_arguments(str_expr):\n",
    "    expr = copy.deepcopy(str_expr)\n",
    "    # We first find list like arguments. This might come when the function is called with\n",
    "    # an expression that looks like this; _transpose([1, 2, 3]). Here, the function is\n",
    "    # \"_transpose\". The argumetn is [1, 2, 3]. The variable \"list_like_arguments\" will end\n",
    "    # up having a list of such variables, which for the case of \"_transpose([1, 2,3]\" will\n",
    "    # be \"[[1, 2, 3]]\"\n",
    "    regex_list_like = r'(\\[+.*?\\]+)'\n",
    "    list_like_arguments = re.findall(regex_list_like, expr)\n",
    "\n",
    "    # We then replace the list_like_arguments with a temporary id, so we don't have a problem\n",
    "    # splitting the rest of the arguments using a comma\n",
    "    temp_vals = {}\n",
    "    for arg, i in zip(list_like_arguments, range(len(list_like_arguments))):\n",
    "        temp_val = get_intermediate_results_id(str_expr, i)\n",
    "        expr = expr.replace(arg, temp_val)\n",
    "        temp_vals[temp_val] = arg\n",
    "\n",
    "    arg_list = re.findall(r\"(?<=\\().+(?=\\))\", expr)[0].replace(\" \", \"\").split(\",\")\n",
    "\n",
    "    # for arg in arg_list:\n",
    "    #     if arg in temp_vals:\n",
    "    #         arg = temp_vals[arg]\n",
    "\n",
    "    return [temp_vals[arg] if arg in temp_vals else arg for arg in arg_list]\n",
    "\n",
    "\n",
    "def get_intermediate_results_id(str_expression, append):\n",
    "    '''\n",
    "    Takes in an expression such as \"_AAPL(return, 5d) + _AAPL(return, 10d, 1d)\" and returns\n",
    "    \"AAPLreturn5dAAPLreturn10d1d_1\" assuming append = 1\n",
    "    '''\n",
    "    pattern = r'[^\\w]|_'\n",
    "    results_id = re.sub(pattern, \"\", str_expression) + \"_\" + str(append)\n",
    "\n",
    "    return results_id"
   ]
  },
  {
   "cell_type": "code",
   "execution_count": 64,
   "metadata": {},
   "outputs": [
    {
     "data": {
      "text/plain": [
       "['[a, b, 4 + 6 + 7, [x, y, [4, 5, 6]]]', '[4, 5, 6]', 'y']"
      ]
     },
     "execution_count": 64,
     "metadata": {},
     "output_type": "execute_result"
    }
   ],
   "source": [
    "\"_matrix([a, b, 4 + 6 + 7, [x, y, [4, 5, 6]]], [4, 5, 6], y)\"get_function_arguments()"
   ]
  },
  {
   "cell_type": "code",
   "execution_count": 41,
   "metadata": {},
   "outputs": [
    {
     "data": {
      "text/plain": [
       "['[1,   2, 3]']"
      ]
     },
     "execution_count": 41,
     "metadata": {},
     "output_type": "execute_result"
    }
   ],
   "source": [
    "import re\n",
    "r = r'\\b\\[[^\\[\\]]+\\][^.]'\n",
    "re.findall(r\"^\\s*(\\[[\\s\\w\\s,]*\\])\\s*$\", \"[1,   2, 3]\")"
   ]
  },
  {
   "cell_type": "code",
   "execution_count": 14,
   "metadata": {},
   "outputs": [
    {
     "ename": "TypeError",
     "evalue": "object of type 'int' has no len()",
     "output_type": "error",
     "traceback": [
      "\u001b[1;31m---------------------------------------------------------------------------\u001b[0m",
      "\u001b[1;31mTypeError\u001b[0m                                 Traceback (most recent call last)",
      "\u001b[1;32m<ipython-input-14-255e22177994>\u001b[0m in \u001b[0;36m<module>\u001b[1;34m\u001b[0m\n\u001b[0;32m      1\u001b[0m \u001b[1;32mfrom\u001b[0m \u001b[0msympy\u001b[0m \u001b[1;32mimport\u001b[0m \u001b[0mMatrix\u001b[0m\u001b[1;33m\u001b[0m\u001b[1;33m\u001b[0m\u001b[0m\n\u001b[0;32m      2\u001b[0m \u001b[1;33m\u001b[0m\u001b[0m\n\u001b[1;32m----> 3\u001b[1;33m \u001b[0mlen\u001b[0m\u001b[1;33m(\u001b[0m\u001b[1;36m0\u001b[0m\u001b[1;33m)\u001b[0m\u001b[1;33m\u001b[0m\u001b[1;33m\u001b[0m\u001b[0m\n\u001b[0m",
      "\u001b[1;31mTypeError\u001b[0m: object of type 'int' has no len()"
     ]
    }
   ],
   "source": [
    "from sympy import Matrix\n",
    "\n",
    "len(Matrix([[1], [2], ]))"
   ]
  }
 ],
 "metadata": {
  "kernelspec": {
   "display_name": "base",
   "language": "python",
   "name": "python3"
  },
  "language_info": {
   "codemirror_mode": {
    "name": "ipython",
    "version": 3
   },
   "file_extension": ".py",
   "mimetype": "text/x-python",
   "name": "python",
   "nbconvert_exporter": "python",
   "pygments_lexer": "ipython3",
   "version": "3.8.8 (default, Apr 13 2021, 15:08:03) [MSC v.1916 64 bit (AMD64)]"
  },
  "orig_nbformat": 4,
  "vscode": {
   "interpreter": {
    "hash": "9ee0ec614d0abf57fdc8a4c4d1b373279e4d39776338528fabf72ad422f0613a"
   }
  }
 },
 "nbformat": 4,
 "nbformat_minor": 2
}
