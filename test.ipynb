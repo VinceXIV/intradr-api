{
 "cells": [
  {
   "cell_type": "code",
   "execution_count": 91,
   "metadata": {},
   "outputs": [],
   "source": [
    "from stocksymbol import StockSymbol\n",
    "import pandas as pd\n",
    "\n",
    "ss = StockSymbol(\"fb6844dd-04c4-4a1e-9596-6b451a0461b3\")\n",
    "us_stock = pd.DataFrame(ss.get_symbol_list(market=\"US\", index=None))"
   ]
  },
  {
   "cell_type": "code",
   "execution_count": 86,
   "metadata": {},
   "outputs": [],
   "source": [
    "from difflib import SequenceMatcher\n",
    "\n",
    "def sequence_similarity(str1, str2):\n",
    "    # print(str1, str2)\n",
    "    matcher = SequenceMatcher(None, str1, str2)\n",
    "    return matcher.ratio()"
   ]
  },
  {
   "cell_type": "code",
   "execution_count": 2,
   "metadata": {},
   "outputs": [
    {
     "name": "stdout",
     "output_type": "stream",
     "text": [
      "0\n"
     ]
    },
    {
     "data": {
      "text/plain": [
       "symbol             AAPL\n",
       "shortName         apple\n",
       "longName     Apple Inc.\n",
       "exchange         NASDAQ\n",
       "market        us_market\n",
       "quoteType        EQUITY\n",
       "Name: 0, dtype: object"
      ]
     },
     "execution_count": 2,
     "metadata": {},
     "output_type": "execute_result"
    }
   ],
   "source": [
    "from asset_module import Asset\n",
    "\n",
    "asset = Asset()\n",
    "\n",
    "asset.find(\"apple\")"
   ]
  },
  {
   "cell_type": "code",
   "execution_count": 82,
   "metadata": {},
   "outputs": [],
   "source": [
    "def find_asset(search_name):\n",
    "    distances = []\n",
    "    for asset_name in us_stock[\"shortName\"]:\n",
    "        # print(asset_name)\n",
    "        distances.append(sequence_similarity(asset_name.lower(), search_name.lower()))\n",
    "\n",
    "    # print(distances)\n",
    "    highest_similarity = distances.index(max(distances))\n",
    "    print(highest_similarity)\n",
    "    return us_stock.iloc[highest_similarity, :]"
   ]
  },
  {
   "cell_type": "code",
   "execution_count": 84,
   "metadata": {},
   "outputs": [
    {
     "name": "stdout",
     "output_type": "stream",
     "text": [
      "6556\n"
     ]
    },
    {
     "data": {
      "text/plain": [
       "symbol             MICT\n",
       "shortName          mict\n",
       "longName     MICT, Inc.\n",
       "exchange         NASDAQ\n",
       "market        us_market\n",
       "quoteType        EQUITY\n",
       "Name: 6556, dtype: object"
      ]
     },
     "execution_count": 84,
     "metadata": {},
     "output_type": "execute_result"
    }
   ],
   "source": [
    "find_asset(\"micr\")"
   ]
  },
  {
   "cell_type": "code",
   "execution_count": null,
   "metadata": {},
   "outputs": [],
   "source": []
  },
  {
   "cell_type": "code",
   "execution_count": 13,
   "metadata": {},
   "outputs": [
    {
     "data": {
      "text/html": [
       "<div>\n",
       "<style scoped>\n",
       "    .dataframe tbody tr th:only-of-type {\n",
       "        vertical-align: middle;\n",
       "    }\n",
       "\n",
       "    .dataframe tbody tr th {\n",
       "        vertical-align: top;\n",
       "    }\n",
       "\n",
       "    .dataframe thead th {\n",
       "        text-align: right;\n",
       "    }\n",
       "</style>\n",
       "<table border=\"1\" class=\"dataframe\">\n",
       "  <thead>\n",
       "    <tr style=\"text-align: right;\">\n",
       "      <th></th>\n",
       "      <th>symbol</th>\n",
       "      <th>shortName</th>\n",
       "      <th>longName</th>\n",
       "      <th>exchange</th>\n",
       "      <th>market</th>\n",
       "      <th>quoteType</th>\n",
       "    </tr>\n",
       "  </thead>\n",
       "  <tbody>\n",
       "    <tr>\n",
       "      <th>0</th>\n",
       "      <td>AAPL</td>\n",
       "      <td>apple</td>\n",
       "      <td>Apple Inc.</td>\n",
       "      <td>NASDAQ</td>\n",
       "      <td>us_market</td>\n",
       "      <td>EQUITY</td>\n",
       "    </tr>\n",
       "    <tr>\n",
       "      <th>1</th>\n",
       "      <td>MSFT</td>\n",
       "      <td>microsoft</td>\n",
       "      <td>Microsoft Corporation</td>\n",
       "      <td>NASDAQ</td>\n",
       "      <td>us_market</td>\n",
       "      <td>EQUITY</td>\n",
       "    </tr>\n",
       "    <tr>\n",
       "      <th>2</th>\n",
       "      <td>GOOG</td>\n",
       "      <td>alphabet</td>\n",
       "      <td>Alphabet Inc.</td>\n",
       "      <td>NASDAQ</td>\n",
       "      <td>us_market</td>\n",
       "      <td>EQUITY</td>\n",
       "    </tr>\n",
       "    <tr>\n",
       "      <th>3</th>\n",
       "      <td>GOOGL</td>\n",
       "      <td>alphabet</td>\n",
       "      <td>Alphabet Inc.</td>\n",
       "      <td>NASDAQ</td>\n",
       "      <td>us_market</td>\n",
       "      <td>EQUITY</td>\n",
       "    </tr>\n",
       "    <tr>\n",
       "      <th>4</th>\n",
       "      <td>AMZN</td>\n",
       "      <td>amazon</td>\n",
       "      <td>Amazon.com, Inc.</td>\n",
       "      <td>NASDAQ</td>\n",
       "      <td>us_market</td>\n",
       "      <td>EQUITY</td>\n",
       "    </tr>\n",
       "    <tr>\n",
       "      <th>...</th>\n",
       "      <td>...</td>\n",
       "      <td>...</td>\n",
       "      <td>...</td>\n",
       "      <td>...</td>\n",
       "      <td>...</td>\n",
       "      <td>...</td>\n",
       "    </tr>\n",
       "    <tr>\n",
       "      <th>8775</th>\n",
       "      <td>GNAL</td>\n",
       "      <td></td>\n",
       "      <td>Generation Alpha, Inc.</td>\n",
       "      <td>OTC</td>\n",
       "      <td>us_market</td>\n",
       "      <td>EQUITY</td>\n",
       "    </tr>\n",
       "    <tr>\n",
       "      <th>8776</th>\n",
       "      <td>ZIMCF</td>\n",
       "      <td></td>\n",
       "      <td>ZIM Corp.</td>\n",
       "      <td>OTC</td>\n",
       "      <td>us_market</td>\n",
       "      <td>EQUITY</td>\n",
       "    </tr>\n",
       "    <tr>\n",
       "      <th>8777</th>\n",
       "      <td>FLCX</td>\n",
       "      <td></td>\n",
       "      <td>flooidCX Corp.</td>\n",
       "      <td>OTC</td>\n",
       "      <td>us_market</td>\n",
       "      <td>EQUITY</td>\n",
       "    </tr>\n",
       "    <tr>\n",
       "      <th>8778</th>\n",
       "      <td>BLEG</td>\n",
       "      <td></td>\n",
       "      <td>BRANDED LEGACY INC.</td>\n",
       "      <td>OTC</td>\n",
       "      <td>us_market</td>\n",
       "      <td>EQUITY</td>\n",
       "    </tr>\n",
       "    <tr>\n",
       "      <th>8779</th>\n",
       "      <td>RRIF</td>\n",
       "      <td></td>\n",
       "      <td>Rainforest Resources Inc.</td>\n",
       "      <td>OTC</td>\n",
       "      <td>us_market</td>\n",
       "      <td>EQUITY</td>\n",
       "    </tr>\n",
       "  </tbody>\n",
       "</table>\n",
       "<p>8780 rows × 6 columns</p>\n",
       "</div>"
      ],
      "text/plain": [
       "     symbol  shortName                   longName exchange     market  \\\n",
       "0      AAPL      apple                 Apple Inc.   NASDAQ  us_market   \n",
       "1      MSFT  microsoft      Microsoft Corporation   NASDAQ  us_market   \n",
       "2      GOOG   alphabet              Alphabet Inc.   NASDAQ  us_market   \n",
       "3     GOOGL   alphabet              Alphabet Inc.   NASDAQ  us_market   \n",
       "4      AMZN     amazon           Amazon.com, Inc.   NASDAQ  us_market   \n",
       "...     ...        ...                        ...      ...        ...   \n",
       "8775   GNAL                Generation Alpha, Inc.      OTC  us_market   \n",
       "8776  ZIMCF                             ZIM Corp.      OTC  us_market   \n",
       "8777   FLCX                        flooidCX Corp.      OTC  us_market   \n",
       "8778   BLEG                   BRANDED LEGACY INC.      OTC  us_market   \n",
       "8779   RRIF             Rainforest Resources Inc.      OTC  us_market   \n",
       "\n",
       "     quoteType  \n",
       "0       EQUITY  \n",
       "1       EQUITY  \n",
       "2       EQUITY  \n",
       "3       EQUITY  \n",
       "4       EQUITY  \n",
       "...        ...  \n",
       "8775    EQUITY  \n",
       "8776    EQUITY  \n",
       "8777    EQUITY  \n",
       "8778    EQUITY  \n",
       "8779    EQUITY  \n",
       "\n",
       "[8780 rows x 6 columns]"
      ]
     },
     "execution_count": 13,
     "metadata": {},
     "output_type": "execute_result"
    }
   ],
   "source": [
    "\n"
   ]
  }
 ],
 "metadata": {
  "kernelspec": {
   "display_name": "base",
   "language": "python",
   "name": "python3"
  },
  "language_info": {
   "codemirror_mode": {
    "name": "ipython",
    "version": 3
   },
   "file_extension": ".py",
   "mimetype": "text/x-python",
   "name": "python",
   "nbconvert_exporter": "python",
   "pygments_lexer": "ipython3",
   "version": "3.8.8"
  },
  "orig_nbformat": 4,
  "vscode": {
   "interpreter": {
    "hash": "9ee0ec614d0abf57fdc8a4c4d1b373279e4d39776338528fabf72ad422f0613a"
   }
  }
 },
 "nbformat": 4,
 "nbformat_minor": 2
}
